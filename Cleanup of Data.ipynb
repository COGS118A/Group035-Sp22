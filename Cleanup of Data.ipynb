{
 "cells": [
  {
   "cell_type": "code",
   "execution_count": 3,
   "id": "70252be4",
   "metadata": {},
   "outputs": [
    {
     "ename": "ModuleNotFoundError",
     "evalue": "No module named 'seaborn'",
     "output_type": "error",
     "traceback": [
      "\u001b[1;31m---------------------------------------------------------------------------\u001b[0m",
      "\u001b[1;31mModuleNotFoundError\u001b[0m                       Traceback (most recent call last)",
      "Input \u001b[1;32mIn [3]\u001b[0m, in \u001b[0;36m<cell line: 4>\u001b[1;34m()\u001b[0m\n\u001b[0;32m      2\u001b[0m \u001b[38;5;28;01mimport\u001b[39;00m \u001b[38;5;21;01mnumpy\u001b[39;00m \u001b[38;5;28;01mas\u001b[39;00m \u001b[38;5;21;01mnp\u001b[39;00m\n\u001b[0;32m      3\u001b[0m \u001b[38;5;28;01mimport\u001b[39;00m \u001b[38;5;21;01mmatplotlib\u001b[39;00m\u001b[38;5;21;01m.\u001b[39;00m\u001b[38;5;21;01mpyplot\u001b[39;00m \u001b[38;5;28;01mas\u001b[39;00m \u001b[38;5;21;01mplt\u001b[39;00m\n\u001b[1;32m----> 4\u001b[0m \u001b[38;5;28;01mimport\u001b[39;00m \u001b[38;5;21;01mseaborn\u001b[39;00m \u001b[38;5;28;01mas\u001b[39;00m \u001b[38;5;21;01msns\u001b[39;00m\n\u001b[0;32m      6\u001b[0m df \u001b[38;5;241m=\u001b[39m pd\u001b[38;5;241m.\u001b[39mread_csv(\u001b[38;5;124m\"\u001b[39m\u001b[38;5;124mUSvideos_modified.csv\u001b[39m\u001b[38;5;124m\"\u001b[39m, sep\u001b[38;5;241m=\u001b[39m\u001b[38;5;124m\"\u001b[39m\u001b[38;5;124m,\u001b[39m\u001b[38;5;124m\"\u001b[39m)\n\u001b[0;32m      7\u001b[0m \u001b[38;5;66;03m# shows top 10 rows\u001b[39;00m\n",
      "\u001b[1;31mModuleNotFoundError\u001b[0m: No module named 'seaborn'"
     ]
    }
   ],
   "source": [
    "import pandas as pd\n",
    "import numpy as np\n",
    "import matplotlib.pyplot as plt\n",
    "import seaborn as sns\n",
    "\n",
    "df = pd.read_csv(\"USvideos_modified.csv\", sep=\",\")\n",
    "# shows top 10 rows\n",
    "df.head(10)"
   ]
  },
  {
   "cell_type": "code",
   "execution_count": null,
   "id": "1e5bcebb",
   "metadata": {},
   "outputs": [],
   "source": [
    "# every variable\n",
    "list(df.columns)"
   ]
  },
  {
   "cell_type": "code",
   "execution_count": null,
   "id": "aba420a6",
   "metadata": {},
   "outputs": [],
   "source": [
    "# all the unqiue values of a certain col\n",
    "for col in df:\n",
    "    print(col)\n",
    "    print(df[col].unique())\n"
   ]
  },
  {
   "cell_type": "code",
   "execution_count": null,
   "id": "c3950e3d",
   "metadata": {},
   "outputs": [],
   "source": [
    "df.shape #matrix amount of rows and columns [uncleaned] "
   ]
  },
  {
   "cell_type": "code",
   "execution_count": null,
   "id": "df69bef8",
   "metadata": {},
   "outputs": [],
   "source": [
    "df['channel_title'].nunique() # unique channels in this dataset?"
   ]
  },
  {
   "cell_type": "code",
   "execution_count": null,
   "id": "a2b8f65e",
   "metadata": {},
   "outputs": [],
   "source": [
    "df.isna().sum() #no values"
   ]
  },
  {
   "cell_type": "code",
   "execution_count": null,
   "id": "2e90d24d",
   "metadata": {},
   "outputs": [],
   "source": [
    "#filling in descriptions that were blank\n",
    "df.description= df.description.fillna('No description provided')\n",
    "#df.tags= df.tags.fillna('No tags provided')"
   ]
  },
  {
   "cell_type": "code",
   "execution_count": null,
   "id": "f209a730",
   "metadata": {},
   "outputs": [],
   "source": [
    "df.isna().sum() #double check no missing values"
   ]
  },
  {
   "cell_type": "code",
   "execution_count": null,
   "id": "4912e50b",
   "metadata": {},
   "outputs": [],
   "source": [
    "#no information provided for subscribers to we eliminate those rows\n",
    "#as to not intefer with our final calculations\n",
    "df = df.dropna() "
   ]
  },
  {
   "cell_type": "code",
   "execution_count": null,
   "id": "30df42a7",
   "metadata": {},
   "outputs": [],
   "source": [
    "df.isna().sum().sum()\n",
    "df.shape #change in shape"
   ]
  },
  {
   "cell_type": "code",
   "execution_count": null,
   "id": "d694aa16",
   "metadata": {},
   "outputs": [],
   "source": [
    "sns.regplot(data=df, x='views', y='likes', color='Red')\n",
    "plt.title('Regression plot for views and likes')"
   ]
  },
  {
   "cell_type": "code",
   "execution_count": null,
   "id": "fc8820e2",
   "metadata": {},
   "outputs": [],
   "source": [
    "sns.regplot(data=df, x='views', y='dislikes', color= 'blue')\n",
    "plt.title('Regression plot for views and dislikes')"
   ]
  },
  {
   "cell_type": "code",
   "execution_count": null,
   "id": "769a9e2e",
   "metadata": {},
   "outputs": [],
   "source": [
    "df_corr= df[['likes', 'dislikes', 'comment_count', 'views']]\n",
    "df_corr.corr()"
   ]
  },
  {
   "cell_type": "code",
   "execution_count": null,
   "id": "f62e7609",
   "metadata": {},
   "outputs": [],
   "source": [
    "sns.heatmap(df_corr.corr(), annot= True)"
   ]
  },
  {
   "cell_type": "markdown",
   "id": "dbc85c4f",
   "metadata": {},
   "source": [
    "# EXAMPLE SENTIMENT ANALYSIS"
   ]
  },
  {
   "cell_type": "code",
   "execution_count": null,
   "id": "c3bbdd1e",
   "metadata": {},
   "outputs": [],
   "source": [
    "df.tags.head(10)\n",
    "tags_complete=''.join(df.tags)"
   ]
  },
  {
   "cell_type": "code",
   "execution_count": null,
   "id": "fd76470d",
   "metadata": {},
   "outputs": [],
   "source": [
    "import re\n",
    "tags= re.sub('[^a-zA-Z]', ' ', tags_complete)"
   ]
  },
  {
   "cell_type": "code",
   "execution_count": null,
   "id": "4ee99ae1",
   "metadata": {},
   "outputs": [],
   "source": [
    "# Display tags\n",
    "#tags"
   ]
  },
  {
   "cell_type": "code",
   "execution_count": null,
   "id": "1badf076",
   "metadata": {},
   "outputs": [],
   "source": [
    "tags= re.sub(' +', ' ', tags)"
   ]
  },
  {
   "cell_type": "code",
   "execution_count": null,
   "id": "25cb74b7",
   "metadata": {},
   "outputs": [],
   "source": [
    "pip install wordcloud"
   ]
  },
  {
   "cell_type": "code",
   "execution_count": null,
   "id": "d4f1ac6b",
   "metadata": {},
   "outputs": [],
   "source": [
    "from wordcloud import WordCloud, STOPWORDS\n",
    "wordcloud= WordCloud(width= 2000, height= 1000, stopwords= set(STOPWORDS)).generate(tags)"
   ]
  },
  {
   "cell_type": "code",
   "execution_count": null,
   "id": "c9a038d9",
   "metadata": {},
   "outputs": [],
   "source": [
    "#Visualize\n",
    "plt.figure(figsize=(15,5))\n",
    "plt.imshow(wordcloud)\n",
    "plt.axis('off')"
   ]
  },
  {
   "cell_type": "code",
   "execution_count": null,
   "id": "09fab0db",
   "metadata": {},
   "outputs": [],
   "source": []
  }
 ],
 "metadata": {
  "kernelspec": {
   "display_name": "Python 3 (ipykernel)",
   "language": "python",
   "name": "python3"
  },
  "language_info": {
   "codemirror_mode": {
    "name": "ipython",
    "version": 3
   },
   "file_extension": ".py",
   "mimetype": "text/x-python",
   "name": "python",
   "nbconvert_exporter": "python",
   "pygments_lexer": "ipython3",
   "version": "3.8.13"
  }
 },
 "nbformat": 4,
 "nbformat_minor": 5
}
