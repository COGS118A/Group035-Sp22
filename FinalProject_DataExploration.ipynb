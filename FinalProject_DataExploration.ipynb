{
 "cells": [
  {
   "cell_type": "markdown",
   "id": "5973216a",
   "metadata": {},
   "source": [
    "# File Upload & Cleaning"
   ]
  },
  {
   "cell_type": "code",
   "execution_count": 1,
   "id": "e52ab9b7",
   "metadata": {},
   "outputs": [
    {
     "name": "stdout",
     "output_type": "stream",
     "text": [
      "(4525, 23)\n"
     ]
    },
    {
     "data": {
      "text/html": [
       "<div>\n",
       "<style scoped>\n",
       "    .dataframe tbody tr th:only-of-type {\n",
       "        vertical-align: middle;\n",
       "    }\n",
       "\n",
       "    .dataframe tbody tr th {\n",
       "        vertical-align: top;\n",
       "    }\n",
       "\n",
       "    .dataframe thead th {\n",
       "        text-align: right;\n",
       "    }\n",
       "</style>\n",
       "<table border=\"1\" class=\"dataframe\">\n",
       "  <thead>\n",
       "    <tr style=\"text-align: right;\">\n",
       "      <th></th>\n",
       "      <th>video_id</th>\n",
       "      <th>last_trending_date</th>\n",
       "      <th>publish_date</th>\n",
       "      <th>publish_hour</th>\n",
       "      <th>category_id</th>\n",
       "      <th>channel_title</th>\n",
       "      <th>views</th>\n",
       "      <th>likes</th>\n",
       "      <th>dislikes</th>\n",
       "      <th>comment_count</th>\n",
       "      <th>...</th>\n",
       "      <th>tag_appeared_in_title</th>\n",
       "      <th>title</th>\n",
       "      <th>tags</th>\n",
       "      <th>description</th>\n",
       "      <th>trend_day_count</th>\n",
       "      <th>trend.publish.diff</th>\n",
       "      <th>trend_tag_highest</th>\n",
       "      <th>trend_tag_total</th>\n",
       "      <th>tags_count</th>\n",
       "      <th>subscriber</th>\n",
       "    </tr>\n",
       "  </thead>\n",
       "  <tbody>\n",
       "    <tr>\n",
       "      <th>0</th>\n",
       "      <td>2kyS6SvSYSE</td>\n",
       "      <td>2017-11-20</td>\n",
       "      <td>2017-11-13</td>\n",
       "      <td>17</td>\n",
       "      <td>22</td>\n",
       "      <td>CaseyNeistat</td>\n",
       "      <td>2564903</td>\n",
       "      <td>96321</td>\n",
       "      <td>7972</td>\n",
       "      <td>22149</td>\n",
       "      <td>...</td>\n",
       "      <td>False</td>\n",
       "      <td>WE WANT TO TALK ABOUT OUR MARRIAGE</td>\n",
       "      <td>SHANtell martin</td>\n",
       "      <td>SHANTELL'S CHANNEL - https://www.youtube.com/s...</td>\n",
       "      <td>7</td>\n",
       "      <td>7</td>\n",
       "      <td>2</td>\n",
       "      <td>2</td>\n",
       "      <td>1</td>\n",
       "      <td>9086142.0</td>\n",
       "    </tr>\n",
       "    <tr>\n",
       "      <th>1</th>\n",
       "      <td>1ZAPwfrtAFY</td>\n",
       "      <td>2017-11-20</td>\n",
       "      <td>2017-11-13</td>\n",
       "      <td>7</td>\n",
       "      <td>24</td>\n",
       "      <td>LastWeekTonight</td>\n",
       "      <td>6109402</td>\n",
       "      <td>151250</td>\n",
       "      <td>11508</td>\n",
       "      <td>19820</td>\n",
       "      <td>...</td>\n",
       "      <td>False</td>\n",
       "      <td>The Trump Presidency: Last Week Tonight with J...</td>\n",
       "      <td>last week tonight trump presidency|last week t...</td>\n",
       "      <td>One year after the presidential election, John...</td>\n",
       "      <td>7</td>\n",
       "      <td>7</td>\n",
       "      <td>65</td>\n",
       "      <td>69</td>\n",
       "      <td>4</td>\n",
       "      <td>5937292.0</td>\n",
       "    </tr>\n",
       "    <tr>\n",
       "      <th>2</th>\n",
       "      <td>5qpjK5DgCt4</td>\n",
       "      <td>2017-11-20</td>\n",
       "      <td>2017-11-12</td>\n",
       "      <td>19</td>\n",
       "      <td>23</td>\n",
       "      <td>Rudy Mancuso</td>\n",
       "      <td>5315471</td>\n",
       "      <td>187303</td>\n",
       "      <td>7278</td>\n",
       "      <td>9990</td>\n",
       "      <td>...</td>\n",
       "      <td>True</td>\n",
       "      <td>Racist Superman | Rudy Mancuso, King Bach &amp; Le...</td>\n",
       "      <td>racist superman|rudy|mancuso|king|bach|racist|...</td>\n",
       "      <td>WATCH MY PREVIOUS VIDEO ▶ \\n\\nSUBSCRIBE ► http...</td>\n",
       "      <td>7</td>\n",
       "      <td>8</td>\n",
       "      <td>68</td>\n",
       "      <td>426</td>\n",
       "      <td>23</td>\n",
       "      <td>4191209.0</td>\n",
       "    </tr>\n",
       "    <tr>\n",
       "      <th>3</th>\n",
       "      <td>puqaWrEC7tY</td>\n",
       "      <td>2017-11-20</td>\n",
       "      <td>2017-11-13</td>\n",
       "      <td>11</td>\n",
       "      <td>24</td>\n",
       "      <td>Good Mythical Morning</td>\n",
       "      <td>913268</td>\n",
       "      <td>16729</td>\n",
       "      <td>1386</td>\n",
       "      <td>2988</td>\n",
       "      <td>...</td>\n",
       "      <td>True</td>\n",
       "      <td>Nickelback Lyrics: Real or Fake?</td>\n",
       "      <td>rhett and link|gmm|good mythical morning|rhett...</td>\n",
       "      <td>Today we find out if Link is a Nickelback amat...</td>\n",
       "      <td>7</td>\n",
       "      <td>7</td>\n",
       "      <td>488</td>\n",
       "      <td>1246</td>\n",
       "      <td>28</td>\n",
       "      <td>13186408.0</td>\n",
       "    </tr>\n",
       "    <tr>\n",
       "      <th>4</th>\n",
       "      <td>d380meD0W0M</td>\n",
       "      <td>2017-11-19</td>\n",
       "      <td>2017-11-12</td>\n",
       "      <td>18</td>\n",
       "      <td>24</td>\n",
       "      <td>nigahiga</td>\n",
       "      <td>2819118</td>\n",
       "      <td>153395</td>\n",
       "      <td>2416</td>\n",
       "      <td>20573</td>\n",
       "      <td>...</td>\n",
       "      <td>True</td>\n",
       "      <td>I Dare You: GOING BALD!?</td>\n",
       "      <td>ryan|higa|higatv|nigahiga|i dare you|idy|rhpc|...</td>\n",
       "      <td>I know it's been a while since we did this sho...</td>\n",
       "      <td>6</td>\n",
       "      <td>7</td>\n",
       "      <td>488</td>\n",
       "      <td>1007</td>\n",
       "      <td>14</td>\n",
       "      <td>20563106.0</td>\n",
       "    </tr>\n",
       "  </tbody>\n",
       "</table>\n",
       "<p>5 rows × 23 columns</p>\n",
       "</div>"
      ],
      "text/plain": [
       "      video_id last_trending_date publish_date  publish_hour  category_id  \\\n",
       "0  2kyS6SvSYSE         2017-11-20   2017-11-13            17           22   \n",
       "1  1ZAPwfrtAFY         2017-11-20   2017-11-13             7           24   \n",
       "2  5qpjK5DgCt4         2017-11-20   2017-11-12            19           23   \n",
       "3  puqaWrEC7tY         2017-11-20   2017-11-13            11           24   \n",
       "4  d380meD0W0M         2017-11-19   2017-11-12            18           24   \n",
       "\n",
       "           channel_title    views   likes  dislikes  comment_count  ...  \\\n",
       "0           CaseyNeistat  2564903   96321      7972          22149  ...   \n",
       "1        LastWeekTonight  6109402  151250     11508          19820  ...   \n",
       "2           Rudy Mancuso  5315471  187303      7278           9990  ...   \n",
       "3  Good Mythical Morning   913268   16729      1386           2988  ...   \n",
       "4               nigahiga  2819118  153395      2416          20573  ...   \n",
       "\n",
       "   tag_appeared_in_title                                              title  \\\n",
       "0                  False                 WE WANT TO TALK ABOUT OUR MARRIAGE   \n",
       "1                  False  The Trump Presidency: Last Week Tonight with J...   \n",
       "2                   True  Racist Superman | Rudy Mancuso, King Bach & Le...   \n",
       "3                   True                   Nickelback Lyrics: Real or Fake?   \n",
       "4                   True                           I Dare You: GOING BALD!?   \n",
       "\n",
       "                                                tags  \\\n",
       "0                                    SHANtell martin   \n",
       "1  last week tonight trump presidency|last week t...   \n",
       "2  racist superman|rudy|mancuso|king|bach|racist|...   \n",
       "3  rhett and link|gmm|good mythical morning|rhett...   \n",
       "4  ryan|higa|higatv|nigahiga|i dare you|idy|rhpc|...   \n",
       "\n",
       "                                         description trend_day_count  \\\n",
       "0  SHANTELL'S CHANNEL - https://www.youtube.com/s...               7   \n",
       "1  One year after the presidential election, John...               7   \n",
       "2  WATCH MY PREVIOUS VIDEO ▶ \\n\\nSUBSCRIBE ► http...               7   \n",
       "3  Today we find out if Link is a Nickelback amat...               7   \n",
       "4  I know it's been a while since we did this sho...               6   \n",
       "\n",
       "  trend.publish.diff trend_tag_highest  trend_tag_total  tags_count  \\\n",
       "0                  7                 2                2           1   \n",
       "1                  7                65               69           4   \n",
       "2                  8                68              426          23   \n",
       "3                  7               488             1246          28   \n",
       "4                  7               488             1007          14   \n",
       "\n",
       "   subscriber  \n",
       "0   9086142.0  \n",
       "1   5937292.0  \n",
       "2   4191209.0  \n",
       "3  13186408.0  \n",
       "4  20563106.0  \n",
       "\n",
       "[5 rows x 23 columns]"
      ]
     },
     "execution_count": 1,
     "metadata": {},
     "output_type": "execute_result"
    }
   ],
   "source": [
    "import pandas as pd\n",
    "import numpy as np\n",
    "import matplotlib.pyplot as plt\n",
    "import seaborn as sns\n",
    "\n",
    "#Upload File\n",
    "df = pd.read_csv(\"USvideos_modified.csv\", sep=\",\")\n",
    "\n",
    "#filling in descriptions that were blank\n",
    "df.description= df.description.fillna('No description provided')\n",
    "df.tags= df.tags.fillna('')\n",
    "df = df.dropna() #no information provided for subscribers to we eliminate those rows\n",
    "\n",
    "print(df.shape)\n",
    "df.head()"
   ]
  },
  {
   "cell_type": "markdown",
   "id": "bfba3222",
   "metadata": {},
   "source": [
    "## Feature Selection by Box Plot Visualization"
   ]
  },
  {
   "cell_type": "code",
   "execution_count": 2,
   "id": "ff69e553",
   "metadata": {},
   "outputs": [],
   "source": [
    "from sklearn.linear_model import LinearRegression\n",
    "from sklearn.metrics import mean_squared_error, r2_score"
   ]
  },
  {
   "cell_type": "code",
   "execution_count": 10,
   "id": "dbbbed71",
   "metadata": {},
   "outputs": [],
   "source": [
    "def lin_reg_bp(df,var_1,var_2):\n",
    "    \n",
    "    X = np.array(df[[var_1]])\n",
    "    y = np.array(df[var_2])\n",
    "    \n",
    "    # Model initialization\n",
    "    regression_model = LinearRegression()\n",
    "    \n",
    "    # Fit the data(train the model)\n",
    "    regression_model.fit(X, y)\n",
    "    \n",
    "    # Predict\n",
    "    y_predicted = regression_model.predict(X)\n",
    "    \n",
    "    # Create dataframe for data\n",
    "    df_var = pd.DataFrame({var_1:X.flatten(), var_2: y_predicted})\n",
    "    \n",
    "    # Plot\n",
    "    boxplot = df_var.boxplot(column=[var_1,var_2])\n",
    "    return boxplot"
   ]
  },
  {
   "cell_type": "markdown",
   "id": "189ad13b",
   "metadata": {},
   "source": [
    "## Linear Regression & Evaluation Metrics "
   ]
  },
  {
   "cell_type": "code",
   "execution_count": 11,
   "id": "45987829",
   "metadata": {},
   "outputs": [],
   "source": [
    "def linear_regression(df,var_1,var_2):\n",
    "    \n",
    "    x = np.array(df[[var_1]])\n",
    "    y = np.array(df[var_2])\n",
    "    \n",
    "    # Model initialization\n",
    "    regression_model = LinearRegression()\n",
    "    \n",
    "    # Fit the data(train the model)\n",
    "    regression_model.fit(x, y)\n",
    "    \n",
    "    # Predict\n",
    "    y_predicted = regression_model.predict(x)\n",
    "    \n",
    "    # model evaluation\n",
    "    rmse = mean_squared_error(y, y_predicted)\n",
    "    r2 = r2_score(y, y_predicted)\n",
    "    \n",
    "    # printing values\n",
    "    print('Slope:' ,regression_model.coef_)\n",
    "    print('Intercept:', regression_model.intercept_)\n",
    "    print('Root mean squared error: ', rmse)\n",
    "    print('R2 score: ', r2)\n",
    "    # plotting values\n",
    "    # data points\n",
    "    plt.scatter(x, y, s=10)\n",
    "    plt.xlabel(var_1)\n",
    "    plt.ylabel(var_2)\n",
    "    # predicted values\n",
    "    plt.plot(x, y_predicted, color='red')\n",
    "    plt.show()"
   ]
  },
  {
   "cell_type": "markdown",
   "id": "8307abf7",
   "metadata": {},
   "source": [
    "### # of days Trending vs Days It Takes to Trend After Published"
   ]
  },
  {
   "cell_type": "code",
   "execution_count": 12,
   "id": "4f3e3350",
   "metadata": {},
   "outputs": [
    {
     "data": {
      "text/plain": [
       "<AxesSubplot:>"
      ]
     },
     "execution_count": 12,
     "metadata": {},
     "output_type": "execute_result"
    },
    {
     "data": {
      "image/png": "[encoded data removed]",
      "text/plain": [
       "<Figure size 432x288 with 1 Axes>"
      ]
     },
     "metadata": {
      "needs_background": "light"
     },
     "output_type": "display_data"
    }
   ],
   "source": [
    "lin_reg_bp(df,'trend_day_count','trend.publish.diff')"
   ]
  },
  {
   "cell_type": "markdown",
   "id": "17514557",
   "metadata": {},
   "source": [
    "From this box plot we see that the majority of videos take about 22 to 45 days to trend after published"
   ]
  },
  {
   "cell_type": "code",
   "execution_count": 6,
   "id": "074a04cb",
   "metadata": {},
   "outputs": [
    {
     "name": "stdout",
     "output_type": "stream",
     "text": [
      "Slope: [1.53339882]\n",
      "Intercept: 25.878192534381135\n",
      "Root mean squared error:  31.61371778573906\n",
      "R2 score:  0.20760065567401664\n"
     ]
    },
    {
     "data": {
      "image/png": "[encoded data removed]",
      "text/plain": [
       "<Figure size 432x288 with 1 Axes>"
      ]
     },
     "metadata": {
      "needs_background": "light"
     },
     "output_type": "display_data"
    }
   ],
   "source": [
    "#Extract rows for which videos trended in 30 or less days after published\n",
    "\n",
    "df_30ldaystrend = df.loc[(df['trend.publish.diff'] > 21) & (df['trend.publish.diff'] < 46)]\n",
    "linear_regression(df_30ldaystrend,'trend_day_count','trend.publish.diff')"
   ]
  },
  {
   "cell_type": "code",
   "execution_count": null,
   "id": "e395dae5",
   "metadata": {},
   "outputs": [],
   "source": []
  }
 ],
 "metadata": {
  "kernelspec": {
   "display_name": "Python 3 (ipykernel)",
   "language": "python",
   "name": "python3"
  },
  "language_info": {
   "codemirror_mode": {
    "name": "ipython",
    "version": 3
   },
   "file_extension": ".py",
   "mimetype": "text/x-python",
   "name": "python",
   "nbconvert_exporter": "python",
   "pygments_lexer": "ipython3",
   "version": "3.9.5"
  }
 },
 "nbformat": 4,
 "nbformat_minor": 5
}
