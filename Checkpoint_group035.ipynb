{
 "cells": [
  {
   "cell_type": "markdown",
   "metadata": {},
   "source": [
    "# COGS 118A- Project Checkpoint"
   ]
  },
  {
   "cell_type": "markdown",
   "metadata": {},
   "source": [
    "# Names\n",
    "\n",
    "- Zytal Lenus\n",
    "- Sharai Barrera\n",
    "- Kelly Chang\n",
    "- Victorionna Tran\n",
    "- Gina Ocegueda"
   ]
  },
  {
   "cell_type": "markdown",
   "metadata": {},
   "source": [
    "# Abstract \n",
    "This section should be short and clearly stated. It should be a single paragraph <200 words.  It should summarize: \n",
    "- what your goal/problem is\n",
    "- what the data used represents and how they are measured\n",
    "- what you will be doing with the data\n",
    "- how performance/success will be measured"
   ]
  },
  {
   "cell_type": "markdown",
   "metadata": {},
   "source": [
    "# Background\n",
    "\n",
    "Fill in the background and discuss the kind of prior work that has gone on in this research area here. **Use inline citation** to specify which references support which statements.  You can do that through HTML footnotes (demonstrated here). I used to reccommend Markdown footnotes (google is your friend) because they are simpler but recently I have had some problems with them working for me whereas HTML ones always work so far. So use the method that works for you, but do use inline citations.\n",
    "\n",
    "Here is an example of inline citation. After government genocide in the 20th century, real birds were replaced with surveillance drones designed to look just like birds<a name=\"lorenz\"></a>[<sup>[1]</sup>](#lorenznote). Use a minimum of 2 or 3 citations, but we prefer more <a name=\"admonish\"></a>[<sup>[2]</sup>](#admonishnote). You need enough citations to fully explain and back up important facts. \n",
    "\n",
    "Remeber you are trying to explain why someone would want to answer your question or why your hypothesis is in the form that you've stated. \n"
   ]
  },
  {
   "cell_type": "markdown",
   "metadata": {},
   "source": [
    "# Problem Statement\n",
    "\n",
    "Clearly describe the problem that you are solving. Avoid ambiguous words. The problem described should be well defined and should have at least one ML-relevant potential solution. Additionally, describe the problem thoroughly such that it is clear that the problem is quantifiable (the problem can be expressed in mathematical or logical terms), measurable (the problem can be measured by some metric and clearly observed), and replicable (the problem can be reproduced and occurs more than once)."
   ]
  },
  {
   "cell_type": "markdown",
   "metadata": {},
   "source": [
    "# Data\n",
    "\n",
    "UPDATED FROM PROPOSAL!\n",
    "\n",
    "You should have obtained and cleaned (if necessary) data you will use for this project.\n",
    "\n",
    "Please give the following infomration for each dataset you are using\n",
    "- link/reference to obtain it\n",
    "- description of the size of the dataset (# of variables, # of observations)\n",
    "- what an observation consists of\n",
    "- what some critical variables are, how they are represented\n",
    "- any special handling, transformations, cleaning, etc you have done should be demonstrated here!\n"
   ]
  },
  {
   "cell_type": "markdown",
   "metadata": {},
   "source": [
    "# Proposed Solution\n",
    "\n",
    "In this section, clearly describe a solution to the problem. The solution should be applicable to the project domain and appropriate for the dataset(s) or input(s) given. Provide enough detail (e.g., algorithmic description and/or theoretical properties) to convince us that your solution is applicable. Make sure to describe how the solution will be tested.  \n",
    "\n",
    "If you know details already, describe how (e.g., library used, function calls) you plan to implement the solution in a way that is reproducible.\n",
    "\n",
    "If it is appropriate to the problem statement, describe a benchmark model<a name=\"sota\"></a>[<sup>[3]</sup>](#sotanote) against which your solution will be compared. "
   ]
  },
  {
   "cell_type": "markdown",
   "metadata": {},
   "source": [
    "# Evaluation Metrics\n",
    "\n",
    "For this project, we plan to use a regression model to predict if a video will trend based features of previous trending videos. Therefore, the evaluation metrics we will be using are R squared and Mean Squared Error.\n",
    "\n",
    "### R squared:\n",
    "R squared determines variance in the dependent variable represented by the independent variables collectively. \n",
    "\n",
    "$$ \\begin{align*}R^{2} = 1-\\frac{SS_{res}}{SS_{tot}}\\end{align*}$$\n",
    "\n",
    "#### Total Sum of Squares ($SS_{tot}$):\n",
    "$$\\begin{align*}SS_{tot} = \\sum_{i}^{}(y_{i}-\\overline{y})^{2} \\end{align*}$$\n",
    "$$\\begin{align*}y_{i} = \\text{i-th value in a sample}\\end{align*}$$\n",
    "$$\\begin{align*}\\overline{y} = \\text{mean value of a sample}\\end{align*}$$\n",
    "\n",
    "#### Residual Sum of Squares ($SS_{res}$)\n",
    "$$ \\begin{align*}SS_{res} = \\sum_{i}^{}(y_{i}-{f}_{i})^{2} = \\sum_{i}^{}e_{i}^{2} \\end{align*}$$\n",
    "\n",
    "$$\\begin{align*}y_{i} = \\text{i-th value of the variable to be predicted}\\end{align*}$$\n",
    "$$\\begin{align*}f_{i} = \\text{predicted value of }y_{i}\\end{align*}$$\n",
    "\n",
    "### Mean Squared Error:\n",
    "Mean squared error determines the average squared difference between observed and predicted values. \n",
    "\n",
    "$$\\begin{align*}MSE = \\frac{1}{n}\\sum_{i}^{n}(\\widehat{y}_{i}-y_{i})^{2}\\end{align*}$$\n",
    "\n",
    "$$\\begin{align*}n = \\text{number of data points}\\end{align*}$$\n",
    "$$\\begin{align*}\\widehat{y}_{i} = \\text{predicted values}\\end{align*}$$\n",
    "$$\\begin{align*}{y}_{i} = \\text{observed values}\\end{align*}$$"
   ]
  },
  {
   "cell_type": "markdown",
   "metadata": {},
   "source": [
    "# Preliminary results\n",
    "\n",
    "NEW SECTION!\n",
    "\n",
    "Please show any preliminary results you have managed to obtain.\n",
    "\n",
    "Examples would include:\n",
    "- Analyzing the suitability of a dataset or alogrithm for prediction/solving your problem \n",
    "- Performing feature selection or hand-designing features from the raw data. Describe the features available/created and/or show the code for selection/creation\n",
    "- Showing the performance of a base model/hyper-parameter setting.  Solve the task with one \"default\" algorithm and characterize the performance level of that base model.\n",
    "- Learning curves or validation curves for a particular model\n",
    "- Tables/graphs showing the performance of different models/hyper-parameters\n",
    "\n"
   ]
  },
  {
   "cell_type": "markdown",
   "metadata": {},
   "source": [
    "# Ethics & Privacy"
   ]
  },
  {
   "cell_type": "markdown",
   "metadata": {},
   "source": [
    "Aside from the factors we intend to use for this project, there may be many other factors that contribute to a video trending that we can not evaluate from the given dataset. Such factors may include promotion of a video on other media or physical platforms and the outreach power of its promoters.\n",
    "\n",
    "For our project we intend to honor all anonymity and provide no information regarding the identity of the users. Most of the data we plan on using has already filtered out usernames/personal information. But we additionally plan to re-evaluate and filter out the data. Additionally, our project is intended only for educational purposes and will not and should not be used for commercial purposes.\n",
    "\n",
    "Consider a tool to help you address the potential issues such as https://deon.drivendata.org"
   ]
  },
  {
   "cell_type": "markdown",
   "metadata": {},
   "source": [
    "# Team Expectations "
   ]
  },
  {
   "cell_type": "markdown",
   "metadata": {},
   "source": [
    "* *Expectation 1*: Every member participates and complete's their assigned task to the best of their ability\n",
    "* *Expectation 2*: Decisions will be made as a group\n",
    "* *Expecation 3*: Members should respect deadlines and inform the group of changes ahead of time\n",
    "* *Expectation 4*: All communication for the project work will be done through discord.\n",
    "* *Expectation 5*: There will be a weekly group meeting for project updates and logistical planning."
   ]
  },
  {
   "cell_type": "markdown",
   "metadata": {},
   "source": [
    "# Project Timeline Proposal"
   ]
  },
  {
   "cell_type": "markdown",
   "metadata": {},
   "source": [
    "UPDATE THE PROPOSAL TIMELINE ACCORDING TO WHAT HAS ACTUALLY HAPPENED AND HOW IT HAS EFFECTED YOUR FUTURE PLANS\n",
    "\n",
    "| Meeting Date  | Meeting Time| Completed Before Meeting  | Discuss at Meeting | Current Progress |\n",
    "|---|---|---|---|---|\n",
    "| 4/21  |  7 PM |  Brainstorm topics/questions (all)  | Determine best form of communication; Discuss and decide on final project topic; discuss hypothesis; begin background research | ✓ |\n",
    "| 4/24  |  3 PM |  Do background research on topic  | Discuss ideal dataset(s) and ethics; draft project proposal | ✓ |\n",
    "| 4/24  | 3 PM  | Edit, finalize, and submit proposal; Search for datasets   | Discuss Wrangling and possible analytical approaches; Assign group members to lead each specific part   | ✓ |\n",
    "| 5/17  | 6 PM  | Reassess project goal and finalize checkpoint goals | CHECKPOINT WORK  | ✓ |\n",
    "| 5/18  | TBD  | Meet with TA to critique project | Project should be finalized and in motion  | |\n",
    "| 5/20  | Before 11:59 PM  | CHECKPOINT DUE | FINAL CHECKPOINT DUE  | |\n",
    "| 5/25  | TBD  | Meeting with either TA or professor for more advice | Work time  | |\n",
    "| 5/26  | 7 PM  | Complete analysis; Draft results/conclusion/discussion | Discuss/edit full project | |\n",
    "| 6/8  | Before 11:59 PM  | NA | Turn in Final Project  | |"
   ]
  },
  {
   "cell_type": "markdown",
   "metadata": {},
   "source": [
    "# Footnotes\n",
    "<a name=\"niturenote\"></a>1.[^](#niture): “Niture,A. (2020-2021). Predictive analysis of YouTube trending videos using Machine Learning. https://esource.dbs.ie/bitstream/handle/10788/4260/msc_niture_aa_2021.pdf?sequence=1&isAllowed=y <br> \n",
    "<a name=\"hale\"></a>2.[^](#hale): “Hale, J. (2020) What Makes A YouTube Video Hit The Trending Tab? This Data Scientist Broke Down Every Single Video That Trended In 2019. https://www.tubefilter.com/2020/07/10/what-makes-a-youtube-video-trending-2019-ammar-alyousfi/amp/<br>\n"
   ]
  }
 ],
 "metadata": {
  "kernelspec": {
   "display_name": "Python 3 (ipykernel)",
   "language": "python",
   "name": "python3"
  },
  "language_info": {
   "codemirror_mode": {
    "name": "ipython",
    "version": 3
   },
   "file_extension": ".py",
   "mimetype": "text/x-python",
   "name": "python",
   "nbconvert_exporter": "python",
   "pygments_lexer": "ipython3",
   "version": "3.9.7"
  }
 },
 "nbformat": 4,
 "nbformat_minor": 4
}
