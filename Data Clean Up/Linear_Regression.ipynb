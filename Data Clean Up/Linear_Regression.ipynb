{
 "cells": [
  {
   "cell_type": "markdown",
   "id": "5469a9ef",
   "metadata": {},
   "source": [
    "# Upload File"
   ]
  },
  {
   "cell_type": "code",
   "execution_count": 1,
   "id": "53910fb9",
   "metadata": {},
   "outputs": [],
   "source": [
    "import pandas as pd\n",
    "import numpy as np\n",
    "import matplotlib.pyplot as plt\n",
    "import seaborn as sns\n",
    "\n",
    "df = pd.read_csv(\"USvideos_modified.csv\", sep=\",\")"
   ]
  },
  {
   "cell_type": "markdown",
   "id": "d5a4f26e",
   "metadata": {},
   "source": [
    "# General Clean up of Data"
   ]
  },
  {
   "cell_type": "code",
   "execution_count": 2,
   "id": "52097af3",
   "metadata": {},
   "outputs": [
    {
     "data": {
      "text/plain": [
       "(4525, 23)"
      ]
     },
     "execution_count": 2,
     "metadata": {},
     "output_type": "execute_result"
    }
   ],
   "source": [
    "#filling in descriptions that were blank\n",
    "df.description= df.description.fillna('No description provided')\n",
    "df.tags= df.tags.fillna('')\n",
    "df = df.dropna() #no information provided for subscribers to we eliminate those rows\n",
    "df.shape"
   ]
  },
  {
   "cell_type": "code",
   "execution_count": 3,
   "id": "ffabf2f1",
   "metadata": {},
   "outputs": [
    {
     "data": {
      "text/html": [
       "<div>\n",
       "<style scoped>\n",
       "    .dataframe tbody tr th:only-of-type {\n",
       "        vertical-align: middle;\n",
       "    }\n",
       "\n",
       "    .dataframe tbody tr th {\n",
       "        vertical-align: top;\n",
       "    }\n",
       "\n",
       "    .dataframe thead th {\n",
       "        text-align: right;\n",
       "    }\n",
       "</style>\n",
       "<table border=\"1\" class=\"dataframe\">\n",
       "  <thead>\n",
       "    <tr style=\"text-align: right;\">\n",
       "      <th></th>\n",
       "      <th>video_id</th>\n",
       "      <th>last_trending_date</th>\n",
       "      <th>publish_date</th>\n",
       "      <th>publish_hour</th>\n",
       "      <th>category_id</th>\n",
       "      <th>channel_title</th>\n",
       "      <th>views</th>\n",
       "      <th>likes</th>\n",
       "      <th>dislikes</th>\n",
       "      <th>comment_count</th>\n",
       "      <th>...</th>\n",
       "      <th>tag_appeared_in_title</th>\n",
       "      <th>title</th>\n",
       "      <th>tags</th>\n",
       "      <th>description</th>\n",
       "      <th>trend_day_count</th>\n",
       "      <th>trend.publish.diff</th>\n",
       "      <th>trend_tag_highest</th>\n",
       "      <th>trend_tag_total</th>\n",
       "      <th>tags_count</th>\n",
       "      <th>subscriber</th>\n",
       "    </tr>\n",
       "  </thead>\n",
       "  <tbody>\n",
       "    <tr>\n",
       "      <th>0</th>\n",
       "      <td>2kyS6SvSYSE</td>\n",
       "      <td>2017-11-20</td>\n",
       "      <td>2017-11-13</td>\n",
       "      <td>17</td>\n",
       "      <td>22</td>\n",
       "      <td>CaseyNeistat</td>\n",
       "      <td>2564903</td>\n",
       "      <td>96321</td>\n",
       "      <td>7972</td>\n",
       "      <td>22149</td>\n",
       "      <td>...</td>\n",
       "      <td>False</td>\n",
       "      <td>WE WANT TO TALK ABOUT OUR MARRIAGE</td>\n",
       "      <td>SHANtell martin</td>\n",
       "      <td>SHANTELL'S CHANNEL - https://www.youtube.com/s...</td>\n",
       "      <td>7</td>\n",
       "      <td>7</td>\n",
       "      <td>2</td>\n",
       "      <td>2</td>\n",
       "      <td>1</td>\n",
       "      <td>9086142.0</td>\n",
       "    </tr>\n",
       "    <tr>\n",
       "      <th>1</th>\n",
       "      <td>1ZAPwfrtAFY</td>\n",
       "      <td>2017-11-20</td>\n",
       "      <td>2017-11-13</td>\n",
       "      <td>7</td>\n",
       "      <td>24</td>\n",
       "      <td>LastWeekTonight</td>\n",
       "      <td>6109402</td>\n",
       "      <td>151250</td>\n",
       "      <td>11508</td>\n",
       "      <td>19820</td>\n",
       "      <td>...</td>\n",
       "      <td>False</td>\n",
       "      <td>The Trump Presidency: Last Week Tonight with J...</td>\n",
       "      <td>last week tonight trump presidency|last week t...</td>\n",
       "      <td>One year after the presidential election, John...</td>\n",
       "      <td>7</td>\n",
       "      <td>7</td>\n",
       "      <td>65</td>\n",
       "      <td>69</td>\n",
       "      <td>4</td>\n",
       "      <td>5937292.0</td>\n",
       "    </tr>\n",
       "    <tr>\n",
       "      <th>2</th>\n",
       "      <td>5qpjK5DgCt4</td>\n",
       "      <td>2017-11-20</td>\n",
       "      <td>2017-11-12</td>\n",
       "      <td>19</td>\n",
       "      <td>23</td>\n",
       "      <td>Rudy Mancuso</td>\n",
       "      <td>5315471</td>\n",
       "      <td>187303</td>\n",
       "      <td>7278</td>\n",
       "      <td>9990</td>\n",
       "      <td>...</td>\n",
       "      <td>True</td>\n",
       "      <td>Racist Superman | Rudy Mancuso, King Bach &amp; Le...</td>\n",
       "      <td>racist superman|rudy|mancuso|king|bach|racist|...</td>\n",
       "      <td>WATCH MY PREVIOUS VIDEO ▶ \\n\\nSUBSCRIBE ► http...</td>\n",
       "      <td>7</td>\n",
       "      <td>8</td>\n",
       "      <td>68</td>\n",
       "      <td>426</td>\n",
       "      <td>23</td>\n",
       "      <td>4191209.0</td>\n",
       "    </tr>\n",
       "    <tr>\n",
       "      <th>3</th>\n",
       "      <td>puqaWrEC7tY</td>\n",
       "      <td>2017-11-20</td>\n",
       "      <td>2017-11-13</td>\n",
       "      <td>11</td>\n",
       "      <td>24</td>\n",
       "      <td>Good Mythical Morning</td>\n",
       "      <td>913268</td>\n",
       "      <td>16729</td>\n",
       "      <td>1386</td>\n",
       "      <td>2988</td>\n",
       "      <td>...</td>\n",
       "      <td>True</td>\n",
       "      <td>Nickelback Lyrics: Real or Fake?</td>\n",
       "      <td>rhett and link|gmm|good mythical morning|rhett...</td>\n",
       "      <td>Today we find out if Link is a Nickelback amat...</td>\n",
       "      <td>7</td>\n",
       "      <td>7</td>\n",
       "      <td>488</td>\n",
       "      <td>1246</td>\n",
       "      <td>28</td>\n",
       "      <td>13186408.0</td>\n",
       "    </tr>\n",
       "    <tr>\n",
       "      <th>4</th>\n",
       "      <td>d380meD0W0M</td>\n",
       "      <td>2017-11-19</td>\n",
       "      <td>2017-11-12</td>\n",
       "      <td>18</td>\n",
       "      <td>24</td>\n",
       "      <td>nigahiga</td>\n",
       "      <td>2819118</td>\n",
       "      <td>153395</td>\n",
       "      <td>2416</td>\n",
       "      <td>20573</td>\n",
       "      <td>...</td>\n",
       "      <td>True</td>\n",
       "      <td>I Dare You: GOING BALD!?</td>\n",
       "      <td>ryan|higa|higatv|nigahiga|i dare you|idy|rhpc|...</td>\n",
       "      <td>I know it's been a while since we did this sho...</td>\n",
       "      <td>6</td>\n",
       "      <td>7</td>\n",
       "      <td>488</td>\n",
       "      <td>1007</td>\n",
       "      <td>14</td>\n",
       "      <td>20563106.0</td>\n",
       "    </tr>\n",
       "    <tr>\n",
       "      <th>5</th>\n",
       "      <td>gHZ1Qz0KiKM</td>\n",
       "      <td>2017-11-20</td>\n",
       "      <td>2017-11-13</td>\n",
       "      <td>19</td>\n",
       "      <td>28</td>\n",
       "      <td>iJustine</td>\n",
       "      <td>1038365</td>\n",
       "      <td>22594</td>\n",
       "      <td>2798</td>\n",
       "      <td>3142</td>\n",
       "      <td>...</td>\n",
       "      <td>True</td>\n",
       "      <td>2 Weeks with iPhone X</td>\n",
       "      <td>ijustine|week with iPhone X|iphone x|apple|iph...</td>\n",
       "      <td>Thanks for watching! Don't forget to subscribe...</td>\n",
       "      <td>7</td>\n",
       "      <td>7</td>\n",
       "      <td>38</td>\n",
       "      <td>122</td>\n",
       "      <td>7</td>\n",
       "      <td>4652602.0</td>\n",
       "    </tr>\n",
       "    <tr>\n",
       "      <th>6</th>\n",
       "      <td>39idVpFF7NQ</td>\n",
       "      <td>2017-11-18</td>\n",
       "      <td>2017-11-12</td>\n",
       "      <td>5</td>\n",
       "      <td>24</td>\n",
       "      <td>Saturday Night Live</td>\n",
       "      <td>2688797</td>\n",
       "      <td>19042</td>\n",
       "      <td>3059</td>\n",
       "      <td>2689</td>\n",
       "      <td>...</td>\n",
       "      <td>True</td>\n",
       "      <td>Roy Moore &amp; Jeff Sessions Cold Open - SNL</td>\n",
       "      <td>SNL|Saturday Night Live|SNL Season 43|Episode ...</td>\n",
       "      <td>Embattled Alabama Senate candidate Roy Moore (...</td>\n",
       "      <td>5</td>\n",
       "      <td>6</td>\n",
       "      <td>488</td>\n",
       "      <td>2216</td>\n",
       "      <td>42</td>\n",
       "      <td>5292034.0</td>\n",
       "    </tr>\n",
       "    <tr>\n",
       "      <th>7</th>\n",
       "      <td>nc99ccSXST0</td>\n",
       "      <td>2017-11-19</td>\n",
       "      <td>2017-11-12</td>\n",
       "      <td>21</td>\n",
       "      <td>28</td>\n",
       "      <td>CrazyRussianHacker</td>\n",
       "      <td>1251577</td>\n",
       "      <td>28951</td>\n",
       "      <td>1146</td>\n",
       "      <td>2606</td>\n",
       "      <td>...</td>\n",
       "      <td>True</td>\n",
       "      <td>5 Ice Cream Gadgets put to the Test</td>\n",
       "      <td>5 Ice Cream Gadgets|Ice Cream|Cream Sandwich M...</td>\n",
       "      <td>Ice Cream Pint Combination Lock - http://amzn....</td>\n",
       "      <td>6</td>\n",
       "      <td>7</td>\n",
       "      <td>113</td>\n",
       "      <td>180</td>\n",
       "      <td>13</td>\n",
       "      <td>10474796.0</td>\n",
       "    </tr>\n",
       "    <tr>\n",
       "      <th>8</th>\n",
       "      <td>jr9QtXwC9vc</td>\n",
       "      <td>2017-11-15</td>\n",
       "      <td>2017-11-13</td>\n",
       "      <td>14</td>\n",
       "      <td>1</td>\n",
       "      <td>20th Century Fox</td>\n",
       "      <td>2671756</td>\n",
       "      <td>12699</td>\n",
       "      <td>505</td>\n",
       "      <td>1010</td>\n",
       "      <td>...</td>\n",
       "      <td>True</td>\n",
       "      <td>The Greatest Showman | Official Trailer 2 [HD]...</td>\n",
       "      <td>Trailer|Hugh Jackman|Michelle Williams|Zac Efr...</td>\n",
       "      <td>Inspired by the imagination of P.T. Barnum, Th...</td>\n",
       "      <td>2</td>\n",
       "      <td>2</td>\n",
       "      <td>151</td>\n",
       "      <td>458</td>\n",
       "      <td>28</td>\n",
       "      <td>2453494.0</td>\n",
       "    </tr>\n",
       "    <tr>\n",
       "      <th>9</th>\n",
       "      <td>TUmyygCMMGA</td>\n",
       "      <td>2017-11-15</td>\n",
       "      <td>2017-11-13</td>\n",
       "      <td>13</td>\n",
       "      <td>25</td>\n",
       "      <td>Vox</td>\n",
       "      <td>635985</td>\n",
       "      <td>20721</td>\n",
       "      <td>2417</td>\n",
       "      <td>4111</td>\n",
       "      <td>...</td>\n",
       "      <td>True</td>\n",
       "      <td>Why the rise of the robots won’t mean the end ...</td>\n",
       "      <td>vox.com|vox|explain|shift change|future of wor...</td>\n",
       "      <td>For now, at least, we have better things to wo...</td>\n",
       "      <td>2</td>\n",
       "      <td>2</td>\n",
       "      <td>39</td>\n",
       "      <td>170</td>\n",
       "      <td>20</td>\n",
       "      <td>3808198.0</td>\n",
       "    </tr>\n",
       "  </tbody>\n",
       "</table>\n",
       "<p>10 rows × 23 columns</p>\n",
       "</div>"
      ],
      "text/plain": [
       "      video_id last_trending_date publish_date  publish_hour  category_id  \\\n",
       "0  2kyS6SvSYSE         2017-11-20   2017-11-13            17           22   \n",
       "1  1ZAPwfrtAFY         2017-11-20   2017-11-13             7           24   \n",
       "2  5qpjK5DgCt4         2017-11-20   2017-11-12            19           23   \n",
       "3  puqaWrEC7tY         2017-11-20   2017-11-13            11           24   \n",
       "4  d380meD0W0M         2017-11-19   2017-11-12            18           24   \n",
       "5  gHZ1Qz0KiKM         2017-11-20   2017-11-13            19           28   \n",
       "6  39idVpFF7NQ         2017-11-18   2017-11-12             5           24   \n",
       "7  nc99ccSXST0         2017-11-19   2017-11-12            21           28   \n",
       "8  jr9QtXwC9vc         2017-11-15   2017-11-13            14            1   \n",
       "9  TUmyygCMMGA         2017-11-15   2017-11-13            13           25   \n",
       "\n",
       "           channel_title    views   likes  dislikes  comment_count  ...  \\\n",
       "0           CaseyNeistat  2564903   96321      7972          22149  ...   \n",
       "1        LastWeekTonight  6109402  151250     11508          19820  ...   \n",
       "2           Rudy Mancuso  5315471  187303      7278           9990  ...   \n",
       "3  Good Mythical Morning   913268   16729      1386           2988  ...   \n",
       "4               nigahiga  2819118  153395      2416          20573  ...   \n",
       "5               iJustine  1038365   22594      2798           3142  ...   \n",
       "6    Saturday Night Live  2688797   19042      3059           2689  ...   \n",
       "7     CrazyRussianHacker  1251577   28951      1146           2606  ...   \n",
       "8       20th Century Fox  2671756   12699       505           1010  ...   \n",
       "9                    Vox   635985   20721      2417           4111  ...   \n",
       "\n",
       "   tag_appeared_in_title                                              title  \\\n",
       "0                  False                 WE WANT TO TALK ABOUT OUR MARRIAGE   \n",
       "1                  False  The Trump Presidency: Last Week Tonight with J...   \n",
       "2                   True  Racist Superman | Rudy Mancuso, King Bach & Le...   \n",
       "3                   True                   Nickelback Lyrics: Real or Fake?   \n",
       "4                   True                           I Dare You: GOING BALD!?   \n",
       "5                   True                              2 Weeks with iPhone X   \n",
       "6                   True          Roy Moore & Jeff Sessions Cold Open - SNL   \n",
       "7                   True                5 Ice Cream Gadgets put to the Test   \n",
       "8                   True  The Greatest Showman | Official Trailer 2 [HD]...   \n",
       "9                   True  Why the rise of the robots won’t mean the end ...   \n",
       "\n",
       "                                                tags  \\\n",
       "0                                    SHANtell martin   \n",
       "1  last week tonight trump presidency|last week t...   \n",
       "2  racist superman|rudy|mancuso|king|bach|racist|...   \n",
       "3  rhett and link|gmm|good mythical morning|rhett...   \n",
       "4  ryan|higa|higatv|nigahiga|i dare you|idy|rhpc|...   \n",
       "5  ijustine|week with iPhone X|iphone x|apple|iph...   \n",
       "6  SNL|Saturday Night Live|SNL Season 43|Episode ...   \n",
       "7  5 Ice Cream Gadgets|Ice Cream|Cream Sandwich M...   \n",
       "8  Trailer|Hugh Jackman|Michelle Williams|Zac Efr...   \n",
       "9  vox.com|vox|explain|shift change|future of wor...   \n",
       "\n",
       "                                         description trend_day_count  \\\n",
       "0  SHANTELL'S CHANNEL - https://www.youtube.com/s...               7   \n",
       "1  One year after the presidential election, John...               7   \n",
       "2  WATCH MY PREVIOUS VIDEO ▶ \\n\\nSUBSCRIBE ► http...               7   \n",
       "3  Today we find out if Link is a Nickelback amat...               7   \n",
       "4  I know it's been a while since we did this sho...               6   \n",
       "5  Thanks for watching! Don't forget to subscribe...               7   \n",
       "6  Embattled Alabama Senate candidate Roy Moore (...               5   \n",
       "7  Ice Cream Pint Combination Lock - http://amzn....               6   \n",
       "8  Inspired by the imagination of P.T. Barnum, Th...               2   \n",
       "9  For now, at least, we have better things to wo...               2   \n",
       "\n",
       "  trend.publish.diff trend_tag_highest  trend_tag_total  tags_count  \\\n",
       "0                  7                 2                2           1   \n",
       "1                  7                65               69           4   \n",
       "2                  8                68              426          23   \n",
       "3                  7               488             1246          28   \n",
       "4                  7               488             1007          14   \n",
       "5                  7                38              122           7   \n",
       "6                  6               488             2216          42   \n",
       "7                  7               113              180          13   \n",
       "8                  2               151              458          28   \n",
       "9                  2                39              170          20   \n",
       "\n",
       "   subscriber  \n",
       "0   9086142.0  \n",
       "1   5937292.0  \n",
       "2   4191209.0  \n",
       "3  13186408.0  \n",
       "4  20563106.0  \n",
       "5   4652602.0  \n",
       "6   5292034.0  \n",
       "7  10474796.0  \n",
       "8   2453494.0  \n",
       "9   3808198.0  \n",
       "\n",
       "[10 rows x 23 columns]"
      ]
     },
     "execution_count": 3,
     "metadata": {},
     "output_type": "execute_result"
    }
   ],
   "source": [
    "df.head(10)"
   ]
  },
  {
   "cell_type": "markdown",
   "id": "fa792d39",
   "metadata": {},
   "source": [
    "# Linear Regression & Evaluation Metrics"
   ]
  },
  {
   "cell_type": "code",
   "execution_count": 4,
   "id": "554584db",
   "metadata": {},
   "outputs": [],
   "source": [
    "from sklearn.linear_model import LinearRegression\n",
    "from sklearn.metrics import mean_squared_error, r2_score\n",
    "\n",
    "def linear_regression(df,var_1,var_2):\n",
    "    \n",
    "    x = np.array(df[[var_1]])\n",
    "    y = np.array(df[var_2])\n",
    "    \n",
    "    # Model initialization\n",
    "    regression_model = LinearRegression()\n",
    "    \n",
    "    # Fit the data(train the model)\n",
    "    regression_model.fit(x, y)\n",
    "    \n",
    "    # Predict\n",
    "    y_predicted = regression_model.predict(x)\n",
    "    \n",
    "    # model evaluation\n",
    "    rmse = mean_squared_error(y, y_predicted)\n",
    "    r2 = r2_score(y, y_predicted)\n",
    "    \n",
    "    # printing values\n",
    "    print('Slope:' ,regression_model.coef_)\n",
    "    print('Intercept:', regression_model.intercept_)\n",
    "    print('Root mean squared error: ', rmse)\n",
    "    print('R2 score: ', r2)\n",
    "    # plotting values\n",
    "    # data points\n",
    "    plt.scatter(x, y, s=10)\n",
    "    plt.xlabel(var_1)\n",
    "    plt.ylabel(var_2)\n",
    "    # predicted values\n",
    "    plt.plot(x, y_predicted, color='red')\n",
    "    plt.show()"
   ]
  },
  {
   "cell_type": "code",
   "execution_count": 5,
   "id": "0f238152",
   "metadata": {},
   "outputs": [],
   "source": [
    "#Extract rows for which videos trended in 30 or less days after published\n",
    "df_30ldaystrend = df.loc[df['trend.publish.diff'] < 31]\n",
    "#Extract rows for which videos trended in 30 or less days after published\n",
    "df_300ldaystrend = df.loc[df['trend.publish.diff'] < 301]"
   ]
  },
  {
   "cell_type": "markdown",
   "id": "3ac16577",
   "metadata": {},
   "source": [
    "### Views vs Publish Hour"
   ]
  },
  {
   "cell_type": "code",
   "execution_count": 6,
   "id": "1811a60a",
   "metadata": {},
   "outputs": [
    {
     "name": "stdout",
     "output_type": "stream",
     "text": [
      "Slope: [-3.95388099e-08]\n",
      "Intercept: 13.574433443695261\n",
      "Root mean squared error:  42.760896920731795\n",
      "R2 score:  0.0007516148873054629\n"
     ]
    },
    {
     "data": {
      "image/png": "[encoded data removed]",
      "text/plain": [
       "<Figure size 432x288 with 1 Axes>"
      ]
     },
     "metadata": {
      "needs_background": "light"
     },
     "output_type": "display_data"
    }
   ],
   "source": [
    "linear_regression(df,'views','publish_hour')"
   ]
  },
  {
   "cell_type": "markdown",
   "id": "920bea98",
   "metadata": {},
   "source": [
    "Negative slope shows that the earlier the time of the publication has higher views."
   ]
  },
  {
   "cell_type": "markdown",
   "id": "e172a3d0",
   "metadata": {},
   "source": [
    "### # of Days Trending vs Tags Count"
   ]
  },
  {
   "cell_type": "code",
   "execution_count": 7,
   "id": "b8f7866a",
   "metadata": {},
   "outputs": [
    {
     "name": "stdout",
     "output_type": "stream",
     "text": [
      "Slope: [-0.26861235]\n",
      "Intercept: 20.56020425611069\n",
      "Root mean squared error:  154.23503240075328\n",
      "R2 score:  0.0031833039081624603\n"
     ]
    },
    {
     "data": {
      "image/png": "[encoded data removed]",
      "text/plain": [
       "<Figure size 432x288 with 1 Axes>"
      ]
     },
     "metadata": {
      "needs_background": "light"
     },
     "output_type": "display_data"
    }
   ],
   "source": [
    "linear_regression(df,'trend_day_count','tags_count')"
   ]
  },
  {
   "cell_type": "markdown",
   "id": "900d31a9",
   "metadata": {},
   "source": [
    "Slight negative slope could indicate that less tags leaves a video trending for longer but it is not significant."
   ]
  },
  {
   "cell_type": "markdown",
   "id": "e0fd74e3",
   "metadata": {},
   "source": [
    "### # of Days Trending vs Trend Tag Total"
   ]
  },
  {
   "cell_type": "code",
   "execution_count": 8,
   "id": "7736d712",
   "metadata": {},
   "outputs": [
    {
     "name": "stdout",
     "output_type": "stream",
     "text": [
      "Slope: [-40.69308763]\n",
      "Intercept: 636.5811465671738\n",
      "Root mean squared error:  369921.9396069427\n",
      "R2 score:  0.02965190782778282\n"
     ]
    },
    {
     "data": {
      "image/png": "[encoded data removed]",
      "text/plain": [
       "<Figure size 432x288 with 1 Axes>"
      ]
     },
     "metadata": {
      "needs_background": "light"
     },
     "output_type": "display_data"
    }
   ],
   "source": [
    "linear_regression(df,'trend_day_count','trend_tag_total')"
   ]
  },
  {
   "cell_type": "markdown",
   "id": "b46980d2",
   "metadata": {},
   "source": [
    "### # of Days Trending vs Tag Appeared In Title Count"
   ]
  },
  {
   "cell_type": "code",
   "execution_count": 9,
   "id": "a138159b",
   "metadata": {},
   "outputs": [
    {
     "name": "stdout",
     "output_type": "stream",
     "text": [
      "Slope: [-0.00808936]\n",
      "Intercept: 3.0066466727001515\n",
      "Root mean squared error:  6.1538570566585955\n",
      "R2 score:  7.258448395486283e-05\n"
     ]
    },
    {
     "data": {
      "image/png": "[encoded data removed]",
      "text/plain": [
       "<Figure size 432x288 with 1 Axes>"
      ]
     },
     "metadata": {
      "needs_background": "light"
     },
     "output_type": "display_data"
    }
   ],
   "source": [
    "linear_regression(df,'trend_day_count','tag_appeared_in_title_count')"
   ]
  },
  {
   "cell_type": "markdown",
   "id": "b19afa23",
   "metadata": {},
   "source": [
    "### Subscriber Count vs Trend Day Count"
   ]
  },
  {
   "cell_type": "code",
   "execution_count": 10,
   "id": "064b3a4e",
   "metadata": {},
   "outputs": [
    {
     "name": "stdout",
     "output_type": "stream",
     "text": [
      "Slope: [-1.21315163e-08]\n",
      "Intercept: 4.875956849019787\n",
      "Root mean squared error:  6.822998934621821\n",
      "R2 score:  0.0005031814537174162\n"
     ]
    },
    {
     "data": {
      "image/png": "[encoded data removed]",
      "text/plain": [
       "<Figure size 432x288 with 1 Axes>"
      ]
     },
     "metadata": {
      "needs_background": "light"
     },
     "output_type": "display_data"
    }
   ],
   "source": [
    "linear_regression(df,'subscriber','trend_day_count')"
   ]
  },
  {
   "cell_type": "markdown",
   "id": "46b65a46",
   "metadata": {},
   "source": [
    "Very slight negative slope:\n",
    "May imply that subscriber count is not indicative of how long a video may trend and that a channel does not need more subscribers in order to stay on the trending page for longer periods of time."
   ]
  },
  {
   "cell_type": "markdown",
   "id": "ee8d7867",
   "metadata": {},
   "source": [
    "### Subscriber Count vs Days It Takes to Trend After Published"
   ]
  },
  {
   "cell_type": "code",
   "execution_count": 11,
   "id": "0e031951",
   "metadata": {},
   "outputs": [
    {
     "name": "stdout",
     "output_type": "stream",
     "text": [
      "Slope: [-8.44757973e-08]\n",
      "Intercept: 6.3153673040378155\n",
      "Root mean squared error:  7.755817325830848\n",
      "R2 score:  0.02129158101566242\n"
     ]
    },
    {
     "data": {
      "image/png": "[encoded data removed]",
      "text/plain": [
       "<Figure size 432x288 with 1 Axes>"
      ]
     },
     "metadata": {
      "needs_background": "light"
     },
     "output_type": "display_data"
    }
   ],
   "source": [
    "linear_regression(df_30ldaystrend,'subscriber','trend.publish.diff')"
   ]
  },
  {
   "cell_type": "code",
   "execution_count": 12,
   "id": "2eee79f2",
   "metadata": {},
   "outputs": [
    {
     "name": "stdout",
     "output_type": "stream",
     "text": [
      "Slope: [-3.89954023e-06]\n",
      "Intercept: 46.91059585395959\n",
      "Root mean squared error:  61188.4941296641\n",
      "R2 score:  0.005766783548593946\n"
     ]
    },
    {
     "data": {
      "image/png": "[encoded data removed]",
      "text/plain": [
       "<Figure size 432x288 with 1 Axes>"
      ]
     },
     "metadata": {
      "needs_background": "light"
     },
     "output_type": "display_data"
    }
   ],
   "source": [
    "linear_regression(df,'subscriber','trend.publish.diff')"
   ]
  },
  {
   "cell_type": "markdown",
   "id": "3114f803",
   "metadata": {},
   "source": [
    "Slight Negative Slope: The more subscribers an individual has the less time it takes for the video to trend. Subscribers of a channel are the first to be notified of a new video posted by the channel, so it makes sense that channels with more subscribers end up trending faster."
   ]
  },
  {
   "cell_type": "markdown",
   "id": "6705169e",
   "metadata": {},
   "source": [
    "### # of Days Trending vs Days It Takes to Trend After Published"
   ]
  },
  {
   "cell_type": "code",
   "execution_count": 13,
   "id": "ee4316c7",
   "metadata": {},
   "outputs": [
    {
     "name": "stdout",
     "output_type": "stream",
     "text": [
      "Slope: [0.76255276]\n",
      "Intercept: 2.330286827619505\n",
      "Root mean squared error:  3.9418879737216024\n",
      "R2 score:  0.5025722261758974\n"
     ]
    },
    {
     "data": {
      "image/png": "[encoded data removed]",
      "text/plain": [
       "<Figure size 432x288 with 1 Axes>"
      ]
     },
     "metadata": {
      "needs_background": "light"
     },
     "output_type": "display_data"
    }
   ],
   "source": [
    "linear_regression(df_30ldaystrend,'trend_day_count','trend.publish.diff')"
   ]
  },
  {
   "cell_type": "code",
   "execution_count": 14,
   "id": "1450acd5",
   "metadata": {},
   "outputs": [
    {
     "name": "stdout",
     "output_type": "stream",
     "text": [
      "Slope: [0.59001779]\n",
      "Intercept: 3.8770323413867676\n",
      "Root mean squared error:  122.33378426330842\n",
      "R2 score:  0.019102584214517937\n"
     ]
    },
    {
     "data": {
      "image/png": "[encoded data removed]",
      "text/plain": [
       "<Figure size 432x288 with 1 Axes>"
      ]
     },
     "metadata": {
      "needs_background": "light"
     },
     "output_type": "display_data"
    }
   ],
   "source": [
    "linear_regression(df_300ldaystrend,'trend_day_count','trend.publish.diff')"
   ]
  },
  {
   "cell_type": "code",
   "execution_count": 15,
   "id": "deeb74c1",
   "metadata": {},
   "outputs": [
    {
     "name": "stdout",
     "output_type": "stream",
     "text": [
      "Slope: [-5.82403265]\n",
      "Intercept: 62.74543085161562\n",
      "Root mean squared error:  61311.85336321304\n",
      "R2 score:  0.0037623569109577204\n"
     ]
    },
    {
     "data": {
      "image/png": "[encoded data removed]",
      "text/plain": [
       "<Figure size 432x288 with 1 Axes>"
      ]
     },
     "metadata": {
      "needs_background": "light"
     },
     "output_type": "display_data"
    }
   ],
   "source": [
    "linear_regression(df,'trend_day_count','trend.publish.diff')"
   ]
  }
 ],
 "metadata": {
  "kernelspec": {
   "display_name": "Python 3 (ipykernel)",
   "language": "python",
   "name": "python3"
  },
  "language_info": {
   "codemirror_mode": {
    "name": "ipython",
    "version": 3
   },
   "file_extension": ".py",
   "mimetype": "text/x-python",
   "name": "python",
   "nbconvert_exporter": "python",
   "pygments_lexer": "ipython3",
   "version": "3.9.5"
  }
 },
 "nbformat": 4,
 "nbformat_minor": 5
}
