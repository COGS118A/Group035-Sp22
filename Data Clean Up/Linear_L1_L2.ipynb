{
 "cells": [
  {
   "cell_type": "markdown",
   "id": "5469a9ef",
   "metadata": {},
   "source": [
    "# Upload File"
   ]
  },
  {
   "cell_type": "code",
   "execution_count": 1,
   "id": "53910fb9",
   "metadata": {},
   "outputs": [],
   "source": [
    "import pandas as pd\n",
    "import numpy as np\n",
    "import matplotlib.pyplot as plt\n",
    "import seaborn as sns\n",
    "\n",
    "df = pd.read_csv(\"USvideos_modified.csv\", sep=\",\")"
   ]
  },
  {
   "cell_type": "markdown",
   "id": "d5a4f26e",
   "metadata": {},
   "source": [
    "# General Clean up of Data"
   ]
  },
  {
   "cell_type": "code",
   "execution_count": 2,
   "id": "52097af3",
   "metadata": {},
   "outputs": [
    {
     "data": {
      "text/plain": [
       "(4525, 23)"
      ]
     },
     "execution_count": 2,
     "metadata": {},
     "output_type": "execute_result"
    }
   ],
   "source": [
    "#filling in descriptions that were blank\n",
    "df.description= df.description.fillna('No description provided')\n",
    "df.tags= df.tags.fillna('')\n",
    "df = df.dropna() #no information provided for subscribers to we eliminate those rows\n",
    "df.shape"
   ]
  },
  {
   "cell_type": "code",
   "execution_count": 3,
   "id": "ffabf2f1",
   "metadata": {},
   "outputs": [
    {
     "data": {
      "text/plain": [
       "Index(['video_id', 'last_trending_date', 'publish_date', 'publish_hour',\n",
       "       'category_id', 'channel_title', 'views', 'likes', 'dislikes',\n",
       "       'comment_count', 'comments_disabled', 'ratings_disabled',\n",
       "       'tag_appeared_in_title_count', 'tag_appeared_in_title', 'title', 'tags',\n",
       "       'description', 'trend_day_count', 'trend.publish.diff',\n",
       "       'trend_tag_highest', 'trend_tag_total', 'tags_count', 'subscriber'],\n",
       "      dtype='object')"
      ]
     },
     "execution_count": 3,
     "metadata": {},
     "output_type": "execute_result"
    }
   ],
   "source": [
    "df.columns"
   ]
  },
  {
   "cell_type": "markdown",
   "id": "fa792d39",
   "metadata": {},
   "source": [
    "## Linear Regression"
   ]
  },
  {
   "cell_type": "code",
   "execution_count": 4,
   "id": "554584db",
   "metadata": {},
   "outputs": [],
   "source": [
    "from sklearn.linear_model import LinearRegression\n",
    "from sklearn.metrics import mean_squared_error, r2_score\n",
    "\n",
    "def linear_regression(df,var_1,var_2):\n",
    "    \n",
    "    x = np.array(df[[var_1]])\n",
    "    y = np.array(df[var_2])\n",
    "    \n",
    "    # Model initialization\n",
    "    regression_model = LinearRegression()\n",
    "    \n",
    "    # Fit the data(train the model)\n",
    "    regression_model.fit(x, y)\n",
    "    \n",
    "    # Predict\n",
    "    y_predicted = regression_model.predict(x)\n",
    "    \n",
    "    # model evaluation\n",
    "    rmse = mean_squared_error(y, y_predicted)\n",
    "    r2 = r2_score(y, y_predicted)\n",
    "    \n",
    "    # printing values\n",
    "    print('Slope:' ,regression_model.coef_)\n",
    "    print('Intercept:', regression_model.intercept_)\n",
    "    print('Root mean squared error: ', rmse)\n",
    "    print('R2 score: ', r2)\n",
    "    # plotting values\n",
    "    # data points\n",
    "    plt.scatter(x, y, s=10)\n",
    "    plt.xlabel(var_1)\n",
    "    plt.ylabel(var_2)\n",
    "    # predicted values\n",
    "    plt.plot(x, y_predicted, color='red')\n",
    "    plt.show()"
   ]
  },
  {
   "cell_type": "markdown",
   "id": "7173d407",
   "metadata": {},
   "source": [
    "## Lasso Regression"
   ]
  },
  {
   "cell_type": "code",
   "execution_count": 5,
   "id": "a26e2e1d",
   "metadata": {},
   "outputs": [],
   "source": [
    "from sklearn.linear_model import Lasso\n",
    "from sklearn.linear_model import LassoCV\n",
    "\n",
    "#L1 Regularization Method\n",
    "def lasso_regression(df,var_1,var_2,a):\n",
    "    \n",
    "    x = np.array(df[[var_1]])\n",
    "    y = np.array(df[var_2])\n",
    "    \n",
    "    # Model initialization\n",
    "    regression_model = Lasso(alpha=a)\n",
    "    \n",
    "    # Fit the data(train the model)\n",
    "    regression_model.fit(x, y)\n",
    "    \n",
    "    # Predict\n",
    "    y_predicted = regression_model.predict(x)\n",
    "    \n",
    "    # model evaluation\n",
    "    rmse = mean_squared_error(y, y_predicted)\n",
    "    r2 = r2_score(y, y_predicted)\n",
    "    \n",
    "    # printing values\n",
    "    print('Slope:' ,regression_model.coef_)\n",
    "    print('Intercept:', regression_model.intercept_)\n",
    "    print('Root mean squared error: ', rmse)\n",
    "    print('R2 score: ', r2)\n",
    "    # plotting values\n",
    "    # data points\n",
    "    plt.scatter(x, y, s=10)\n",
    "    plt.xlabel(var_1)\n",
    "    plt.ylabel(var_2)\n",
    "    # predicted values\n",
    "    plt.plot(x, y_predicted, color='red')\n",
    "    plt.show()\n",
    "    \n",
    "#Function determines best alpha value for lasso\n",
    "def L_Alpha(df,var1,var2):\n",
    "    \n",
    "    x = np.array(df[[var1]])\n",
    "    y = np.array(df[var2])\n",
    "\n",
    "    regr_cv = LassoCV(alphas= [.1,1,10,100,1000,2000,3000,4000])\n",
    "    model_cv = regr_cv.fit(x, y)\n",
    "    print(model_cv.alpha_)"
   ]
  },
  {
   "cell_type": "markdown",
   "id": "79e249b8",
   "metadata": {},
   "source": [
    "## Ridge Regression"
   ]
  },
  {
   "cell_type": "code",
   "execution_count": 6,
   "id": "4fc67e94",
   "metadata": {},
   "outputs": [],
   "source": [
    "from sklearn.linear_model import Ridge\n",
    "from sklearn.linear_model import RidgeCV\n",
    "\n",
    "#L2 Regularization Method\n",
    "def ridge_regression(df,var_1,var_2,a):\n",
    "    \n",
    "    x = np.array(df[[var_1]])\n",
    "    y = np.array(df[var_2])\n",
    "    \n",
    "    # Model initialization\n",
    "    regression_model = Ridge(alpha=a)\n",
    "    \n",
    "    # Fit the data(train the model)\n",
    "    regression_model.fit(x, y)\n",
    "    \n",
    "    # Predict\n",
    "    y_predicted = regression_model.predict(x)\n",
    "    \n",
    "     # model evaluation\n",
    "    rmse = mean_squared_error(y, y_predicted)\n",
    "    r2 = r2_score(y, y_predicted)\n",
    "    \n",
    "    # printing values\n",
    "    print('Slope:' ,regression_model.coef_)\n",
    "    print('Intercept:', regression_model.intercept_)\n",
    "    print('Root mean squared error: ', rmse)\n",
    "    print('R2 score: ', r2)\n",
    "    # plotting values\n",
    "    # data points\n",
    "    plt.scatter(x, y, s=10)\n",
    "    plt.xlabel(var_1)\n",
    "    plt.ylabel(var_2)\n",
    "    # predicted values\n",
    "    plt.plot(x, y_predicted, color='red')\n",
    "    plt.show()\n",
    "    \n",
    "#Function determines best alpha value for ridge\n",
    "def R_Alpha(df,var1,var2):\n",
    "    \n",
    "    x = np.array(df[[var1]])\n",
    "    y = np.array(df[var2])\n",
    "\n",
    "    regr_cv = RidgeCV(alphas= [1,10,100,1000,2000,3000,4000])\n",
    "    model_cv = regr_cv.fit(x, y)\n",
    "    print(model_cv.alpha_)"
   ]
  },
  {
   "cell_type": "markdown",
   "id": "25aa4e92",
   "metadata": {},
   "source": [
    "### trend_day_count vs trend.publish.diff"
   ]
  },
  {
   "cell_type": "code",
   "execution_count": 7,
   "id": "36ed14e9",
   "metadata": {},
   "outputs": [
    {
     "name": "stdout",
     "output_type": "stream",
     "text": [
      "Slope: [-5.82403265]\n",
      "Intercept: 62.74543085161562\n",
      "Root mean squared error:  61311.85336321304\n",
      "R2 score:  0.0037623569109577204\n"
     ]
    },
    {
     "data": {
      "image/png": "[encoded data removed]",
      "text/plain": [
       "<Figure size 432x288 with 1 Axes>"
      ]
     },
     "metadata": {
      "needs_background": "light"
     },
     "output_type": "display_data"
    }
   ],
   "source": [
    "linear_regression(df,'trend_day_count','trend.publish.diff')"
   ]
  },
  {
   "cell_type": "code",
   "execution_count": 8,
   "id": "cd6294f1",
   "metadata": {},
   "outputs": [
    {
     "name": "stdout",
     "output_type": "stream",
     "text": [
      "1.0\n"
     ]
    }
   ],
   "source": [
    "L_Alpha(df,'trend_day_count','trend.publish.diff')"
   ]
  },
  {
   "cell_type": "code",
   "execution_count": 9,
   "id": "78402c3f",
   "metadata": {},
   "outputs": [
    {
     "name": "stdout",
     "output_type": "stream",
     "text": [
      "Slope: [-5.67754327]\n",
      "Intercept: 62.03677840537147\n",
      "Root mean squared error:  61311.9998525835\n",
      "R2 score:  0.003759976649765684\n"
     ]
    },
    {
     "data": {
      "image/png": "[encoded data removed]",
      "text/plain": [
       "<Figure size 432x288 with 1 Axes>"
      ]
     },
     "metadata": {
      "needs_background": "light"
     },
     "output_type": "display_data"
    }
   ],
   "source": [
    "lasso_regression(df,'trend_day_count','trend.publish.diff',1)"
   ]
  },
  {
   "cell_type": "code",
   "execution_count": 10,
   "id": "62dc2ebc",
   "metadata": {},
   "outputs": [
    {
     "name": "stdout",
     "output_type": "stream",
     "text": [
      "2000\n"
     ]
    }
   ],
   "source": [
    "R_Alpha(df,'trend_day_count','trend.publish.diff')"
   ]
  },
  {
   "cell_type": "code",
   "execution_count": 11,
   "id": "865a73bf",
   "metadata": {},
   "outputs": [
    {
     "name": "stdout",
     "output_type": "stream",
     "text": [
      "Slope: [-5.4698763]\n",
      "Intercept: 61.03217506408518\n",
      "Root mean squared error:  61312.70958041036\n",
      "R2 score:  0.003748444498335335\n"
     ]
    },
    {
     "data": {
      "image/png": "[encoded data removed]",
      "text/plain": [
       "<Figure size 432x288 with 1 Axes>"
      ]
     },
     "metadata": {
      "needs_background": "light"
     },
     "output_type": "display_data"
    }
   ],
   "source": [
    "ridge_regression(df,'trend_day_count','trend.publish.diff',2000)"
   ]
  }
 ],
 "metadata": {
  "kernelspec": {
   "display_name": "Python 3 (ipykernel)",
   "language": "python",
   "name": "python3"
  },
  "language_info": {
   "codemirror_mode": {
    "name": "ipython",
    "version": 3
   },
   "file_extension": ".py",
   "mimetype": "text/x-python",
   "name": "python",
   "nbconvert_exporter": "python",
   "pygments_lexer": "ipython3",
   "version": "3.9.5"
  }
 },
 "nbformat": 4,
 "nbformat_minor": 5
}
