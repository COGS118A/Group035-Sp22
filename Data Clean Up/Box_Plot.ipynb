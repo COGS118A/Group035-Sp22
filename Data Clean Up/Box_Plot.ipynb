{
 "cells": [
  {
   "cell_type": "markdown",
   "id": "017b2fd2",
   "metadata": {},
   "source": [
    "# Upload File"
   ]
  },
  {
   "cell_type": "code",
   "execution_count": 1,
   "id": "538621c7",
   "metadata": {},
   "outputs": [
    {
     "data": {
      "text/plain": [
       "Index(['video_id', 'last_trending_date', 'publish_date', 'publish_hour',\n",
       "       'category_id', 'channel_title', 'views', 'likes', 'dislikes',\n",
       "       'comment_count', 'comments_disabled', 'ratings_disabled',\n",
       "       'tag_appeared_in_title_count', 'tag_appeared_in_title', 'title', 'tags',\n",
       "       'description', 'trend_day_count', 'trend.publish.diff',\n",
       "       'trend_tag_highest', 'trend_tag_total', 'tags_count', 'subscriber'],\n",
       "      dtype='object')"
      ]
     },
     "execution_count": 1,
     "metadata": {},
     "output_type": "execute_result"
    }
   ],
   "source": [
    "import pandas as pd\n",
    "import numpy as np\n",
    "import matplotlib.pyplot as plt\n",
    "import seaborn as sns\n",
    "from matplotlib.ticker import FormatStrFormatter\n",
    "df = pd.read_csv(\"USvideos_modified.csv\", sep=\",\")\n",
    "\n",
    "df.columns"
   ]
  },
  {
   "cell_type": "markdown",
   "id": "31515a02",
   "metadata": {},
   "source": [
    "# General Clean up of Data"
   ]
  },
  {
   "cell_type": "code",
   "execution_count": 2,
   "id": "83be9fe0",
   "metadata": {},
   "outputs": [
    {
     "data": {
      "text/plain": [
       "(4525, 23)"
      ]
     },
     "execution_count": 2,
     "metadata": {},
     "output_type": "execute_result"
    }
   ],
   "source": [
    "#filling in descriptions that were blank\n",
    "df.description= df.description.fillna('No description provided')\n",
    "df.tags= df.tags.fillna('')\n",
    "df = df.dropna() #no information provided for subscribers to we eliminate those rows\n",
    "df.shape"
   ]
  },
  {
   "cell_type": "code",
   "execution_count": 3,
   "id": "f87ef001",
   "metadata": {},
   "outputs": [
    {
     "data": {
      "text/plain": [
       "Index(['video_id', 'last_trending_date', 'publish_date', 'publish_hour',\n",
       "       'category_id', 'channel_title', 'views', 'likes', 'dislikes',\n",
       "       'comment_count', 'comments_disabled', 'ratings_disabled',\n",
       "       'tag_appeared_in_title_count', 'tag_appeared_in_title', 'title', 'tags',\n",
       "       'description', 'trend_day_count', 'trend.publish.diff',\n",
       "       'trend_tag_highest', 'trend_tag_total', 'tags_count', 'subscriber'],\n",
       "      dtype='object')"
      ]
     },
     "execution_count": 3,
     "metadata": {},
     "output_type": "execute_result"
    }
   ],
   "source": [
    "df.columns"
   ]
  },
  {
   "cell_type": "markdown",
   "id": "f4b14548",
   "metadata": {},
   "source": [
    "## Linear Regression"
   ]
  },
  {
   "cell_type": "code",
   "execution_count": 4,
   "id": "e4b23000",
   "metadata": {},
   "outputs": [],
   "source": [
    "from sklearn.linear_model import LinearRegression\n",
    "\n",
    "def lin_reg_bp(df,var_1,var_2):\n",
    "    \n",
    "    X = np.array(df[[var_1]])\n",
    "    y = np.array(df[var_2])\n",
    "    \n",
    "    # Model initialization\n",
    "    regression_model = LinearRegression()\n",
    "    \n",
    "    # Fit the data(train the model)\n",
    "    regression_model.fit(X, y)\n",
    "    \n",
    "    # Predict\n",
    "    y_predicted = regression_model.predict(X)\n",
    "    \n",
    "    # Create dataframe for data\n",
    "    df_var = pd.DataFrame({var_1:X.flatten(), var_2: y_predicted})\n",
    "    \n",
    "    print('\\033[1m' + \"Box Plot for Linear Regression\",'\\033[0m')\n",
    "    \n",
    "    # Plot\n",
    "    boxplot = df_var.boxplot(column=[var_1, var_2])\n",
    "    return boxplot"
   ]
  },
  {
   "cell_type": "markdown",
   "id": "9099444a",
   "metadata": {},
   "source": [
    "## Lasso Regression"
   ]
  },
  {
   "cell_type": "code",
   "execution_count": 5,
   "id": "8c54fcf0",
   "metadata": {},
   "outputs": [],
   "source": [
    "from sklearn.linear_model import Lasso\n",
    "from sklearn.linear_model import LassoCV\n",
    "\n",
    "#L1 Regularization Method\n",
    "def las_reg_bp(df,var_1,var_2,a):\n",
    "    \n",
    "    X = np.array(df[[var_1]])\n",
    "    y = np.array(df[var_2])\n",
    "    \n",
    "    # Model initialization\n",
    "    regression_model = Lasso(alpha=a)\n",
    "    \n",
    "    # Fit the data(train the model)\n",
    "    regression_model.fit(X, y)\n",
    "    \n",
    "    # Predict\n",
    "    y_predicted = regression_model.predict(X)\n",
    "    \n",
    "    # Create dataframe for data\n",
    "    df_var = pd.DataFrame({var_1:X.flatten(), var_2: y_predicted})\n",
    " \n",
    "    print('\\033[1m' + \"Box Plot for Linear Regression with L1 Regularization\",'\\033[0m')\n",
    "\n",
    "    # Plot\n",
    "    boxplot = df_var.boxplot(column=[var_1, var_2])\n",
    "    return boxplot\n",
    "    \n",
    "#Function determines best alpha value for lasso\n",
    "def L_Alpha(df,var1,var2):\n",
    "    \n",
    "    x = np.array(df[[var1]])\n",
    "    y = np.array(df[var2])\n",
    "\n",
    "    regr_cv = LassoCV(alphas= [.1,1,10,100,1000,2000,3000,4000])\n",
    "    model_cv = regr_cv.fit(x, y)\n",
    "    print(\"lasso alpha:\",model_cv.alpha_)"
   ]
  },
  {
   "cell_type": "markdown",
   "id": "91681193",
   "metadata": {},
   "source": [
    "## Ridge Regression"
   ]
  },
  {
   "cell_type": "code",
   "execution_count": 6,
   "id": "56bc5a20",
   "metadata": {},
   "outputs": [],
   "source": [
    "from sklearn.linear_model import Ridge\n",
    "from sklearn.linear_model import RidgeCV\n",
    "\n",
    "#L2 Regularization Method\n",
    "def rid_reg_bp(df,var_1,var_2,a):\n",
    "    \n",
    "    X = np.array(df[[var_1]])\n",
    "    y = np.array(df[var_2])\n",
    "    \n",
    "    # Model initialization\n",
    "    regression_model = Ridge(alpha=a)\n",
    "    \n",
    "    # Fit the data(train the model)\n",
    "    regression_model.fit(X, y)\n",
    "    \n",
    "    # Predict\n",
    "    y_predicted = regression_model.predict(X)\n",
    "    \n",
    "    # Create dataframe for data\n",
    "    df_var = pd.DataFrame({var_1:X.flatten(), var_2: y_predicted})\n",
    "\n",
    "    print('\\033[1m' + \"Box Plot for Linear Regression with L2 Regularization\",'\\033[0m')\n",
    "    \n",
    "    # Plot\n",
    "    boxplot = df_var.boxplot(column=[var_1, var_2])\n",
    "    return boxplot\n",
    "    \n",
    "#Function determines best alpha value for ridge\n",
    "def R_Alpha(df,var1,var2):\n",
    "    \n",
    "    x = np.array(df[[var1]])\n",
    "    y = np.array(df[var2])\n",
    "\n",
    "    regr_cv = RidgeCV(alphas= [1,10,100,1000,2000,3000,4000])\n",
    "    model_cv = regr_cv.fit(x, y)\n",
    "    print(\"ridge alpha:\",model_cv.alpha_)"
   ]
  },
  {
   "cell_type": "markdown",
   "id": "44f041f2",
   "metadata": {},
   "source": [
    "### trend_day_count vs trend.publish.diff"
   ]
  },
  {
   "cell_type": "code",
   "execution_count": 7,
   "id": "cef2cb3f",
   "metadata": {},
   "outputs": [
    {
     "name": "stdout",
     "output_type": "stream",
     "text": [
      "lasso alpha: 1.0\n",
      "ridge alpha: 2000\n"
     ]
    }
   ],
   "source": [
    "L_Alpha(df,'trend_day_count','trend.publish.diff')\n",
    "R_Alpha(df,'trend_day_count','trend.publish.diff')"
   ]
  },
  {
   "cell_type": "code",
   "execution_count": 8,
   "id": "46b98937",
   "metadata": {},
   "outputs": [
    {
     "name": "stdout",
     "output_type": "stream",
     "text": [
      "\u001b[1mBox Plot for Linear Regression \u001b[0m\n"
     ]
    },
    {
     "data": {
      "text/plain": [
       "<AxesSubplot:>"
      ]
     },
     "execution_count": 8,
     "metadata": {},
     "output_type": "execute_result"
    },
    {
     "data": {
      "image/png": "[encoded data removed]",
      "text/plain": [
       "<Figure size 432x288 with 1 Axes>"
      ]
     },
     "metadata": {
      "needs_background": "light"
     },
     "output_type": "display_data"
    }
   ],
   "source": [
    "lin_reg_bp(df,'trend_day_count','trend.publish.diff')"
   ]
  },
  {
   "cell_type": "code",
   "execution_count": 9,
   "id": "7672ee79",
   "metadata": {},
   "outputs": [
    {
     "name": "stdout",
     "output_type": "stream",
     "text": [
      "\u001b[1mBox Plot for Linear Regression with L1 Regularization \u001b[0m\n"
     ]
    },
    {
     "data": {
      "text/plain": [
       "<AxesSubplot:>"
      ]
     },
     "execution_count": 9,
     "metadata": {},
     "output_type": "execute_result"
    },
    {
     "data": {
      "image/png": "[encoded data removed]",
      "text/plain": [
       "<Figure size 432x288 with 1 Axes>"
      ]
     },
     "metadata": {
      "needs_background": "light"
     },
     "output_type": "display_data"
    }
   ],
   "source": [
    "las_reg_bp(df,'trend_day_count','trend.publish.diff',1)"
   ]
  },
  {
   "cell_type": "code",
   "execution_count": 10,
   "id": "364e0f94",
   "metadata": {},
   "outputs": [
    {
     "name": "stdout",
     "output_type": "stream",
     "text": [
      "\u001b[1mBox Plot for Linear Regression with L2 Regularization \u001b[0m\n"
     ]
    },
    {
     "data": {
      "text/plain": [
       "<AxesSubplot:>"
      ]
     },
     "execution_count": 10,
     "metadata": {},
     "output_type": "execute_result"
    },
    {
     "data": {
      "image/png": "[encoded data removed]",
      "text/plain": [
       "<Figure size 432x288 with 1 Axes>"
      ]
     },
     "metadata": {
      "needs_background": "light"
     },
     "output_type": "display_data"
    }
   ],
   "source": [
    "rid_reg_bp(df,'trend_day_count','trend.publish.diff',2000)"
   ]
  }
 ],
 "metadata": {
  "kernelspec": {
   "display_name": "Python 3 (ipykernel)",
   "language": "python",
   "name": "python3"
  },
  "language_info": {
   "codemirror_mode": {
    "name": "ipython",
    "version": 3
   },
   "file_extension": ".py",
   "mimetype": "text/x-python",
   "name": "python",
   "nbconvert_exporter": "python",
   "pygments_lexer": "ipython3",
   "version": "3.9.5"
  }
 },
 "nbformat": 4,
 "nbformat_minor": 5
}
