{
 "cells": [
  {
   "cell_type": "markdown",
   "id": "5469a9ef",
   "metadata": {},
   "source": [
    "# Upload File"
   ]
  },
  {
   "cell_type": "code",
   "execution_count": 1,
   "id": "53910fb9",
   "metadata": {},
   "outputs": [],
   "source": [
    "import pandas as pd\n",
    "import numpy as np\n",
    "import matplotlib.pyplot as plt\n",
    "import seaborn as sns\n",
    "from matplotlib.ticker import FormatStrFormatter\n",
    "\n",
    "df = pd.read_csv(\"USvideos_modified.csv\", sep=\",\")"
   ]
  },
  {
   "cell_type": "markdown",
   "id": "d5a4f26e",
   "metadata": {},
   "source": [
    "# General Clean up of Data"
   ]
  },
  {
   "cell_type": "code",
   "execution_count": 2,
   "id": "52097af3",
   "metadata": {},
   "outputs": [
    {
     "data": {
      "text/plain": [
       "(4525, 23)"
      ]
     },
     "execution_count": 2,
     "metadata": {},
     "output_type": "execute_result"
    }
   ],
   "source": [
    "#filling in descriptions that were blank\n",
    "df.description= df.description.fillna('No description provided')\n",
    "df.tags= df.tags.fillna('')\n",
    "df = df.dropna() #no information provided for subscribers to we eliminate those rows\n",
    "df.shape"
   ]
  },
  {
   "cell_type": "code",
   "execution_count": 3,
   "id": "ffabf2f1",
   "metadata": {},
   "outputs": [
    {
     "data": {
      "text/plain": [
       "Index(['video_id', 'last_trending_date', 'publish_date', 'publish_hour',\n",
       "       'category_id', 'channel_title', 'views', 'likes', 'dislikes',\n",
       "       'comment_count', 'comments_disabled', 'ratings_disabled',\n",
       "       'tag_appeared_in_title_count', 'tag_appeared_in_title', 'title', 'tags',\n",
       "       'description', 'trend_day_count', 'trend.publish.diff',\n",
       "       'trend_tag_highest', 'trend_tag_total', 'tags_count', 'subscriber'],\n",
       "      dtype='object')"
      ]
     },
     "execution_count": 3,
     "metadata": {},
     "output_type": "execute_result"
    }
   ],
   "source": [
    "df.columns"
   ]
  },
  {
   "cell_type": "markdown",
   "id": "fa792d39",
   "metadata": {},
   "source": [
    "## Linear Regression"
   ]
  },
  {
   "cell_type": "code",
   "execution_count": 4,
   "id": "554584db",
   "metadata": {},
   "outputs": [],
   "source": [
    "from sklearn.linear_model import LinearRegression\n",
    "\n",
    "def lin_reg_bp(df,var_1,var_2):\n",
    "    \n",
    "    X = np.array(df[[var_1]])\n",
    "    y = np.array(df[var_2])\n",
    "    \n",
    "    # Model initialization\n",
    "    regression_model = LinearRegression()\n",
    "    \n",
    "    # Fit the data(train the model)\n",
    "    regression_model.fit(X, y)\n",
    "    \n",
    "    # Predict\n",
    "    y_predicted = regression_model.predict(X)\n",
    "    \n",
    "    # Create dataframe for data\n",
    "    df_var = pd.DataFrame({var_1:X.flatten(), var_2: y_predicted})\n",
    "    \n",
    "    # Plot\n",
    "    boxplot = sns.boxplot(data = df_var,y = var_2,x = var_1,color = 'cyan')\n",
    "    return df_var"
   ]
  },
  {
   "cell_type": "markdown",
   "id": "7173d407",
   "metadata": {},
   "source": [
    "## Lasso Regression"
   ]
  },
  {
   "cell_type": "code",
   "execution_count": 16,
   "id": "a26e2e1d",
   "metadata": {},
   "outputs": [],
   "source": [
    "from sklearn.linear_model import Lasso\n",
    "from sklearn.linear_model import LassoCV\n",
    "\n",
    "#L1 Regularization Method\n",
    "def las_reg_bp(df,var_1,var_2,a):\n",
    "    \n",
    "    X = np.array(df[[var_1]])\n",
    "    y = np.array(df[var_2])\n",
    "    \n",
    "    # Model initialization\n",
    "    regression_model = Lasso(alpha=a)\n",
    "    \n",
    "    # Fit the data(train the model)\n",
    "    regression_model.fit(X, y)\n",
    "    \n",
    "    # Predict\n",
    "    y_predicted = regression_model.predict(X)\n",
    "    \n",
    "    # Create dataframe for data\n",
    "    df_var = pd.DataFrame({var_1:X.flatten(), var_2: y_predicted})\n",
    "    \n",
    "    # Plot\n",
    "    boxplot = sns.boxplot(data = df_var,y = var_2,x = var_1,color = 'cyan')\n",
    "    return df_var\n",
    "    \n",
    "#Function determines best alpha value for lasso\n",
    "def L_Alpha(df,var1,var2):\n",
    "    \n",
    "    x = np.array(df[[var1]])\n",
    "    y = np.array(df[var2])\n",
    "\n",
    "    regr_cv = LassoCV(alphas= [.1,1,10,100,1000,2000,3000,4000])\n",
    "    model_cv = regr_cv.fit(x, y)\n",
    "    print(model_cv.alpha_)"
   ]
  },
  {
   "cell_type": "markdown",
   "id": "79e249b8",
   "metadata": {},
   "source": [
    "## Ridge Regression"
   ]
  },
  {
   "cell_type": "code",
   "execution_count": 17,
   "id": "4fc67e94",
   "metadata": {},
   "outputs": [],
   "source": [
    "from sklearn.linear_model import Ridge\n",
    "from sklearn.linear_model import RidgeCV\n",
    "\n",
    "#L2 Regularization Method\n",
    "def rid_reg_bp(df,var_1,var_2,a):\n",
    "    \n",
    "    X = np.array(df[[var_1]])\n",
    "    y = np.array(df[var_2])\n",
    "    \n",
    "    # Model initialization\n",
    "    regression_model = Ridge(alpha=a)\n",
    "    \n",
    "    # Fit the data(train the model)\n",
    "    regression_model.fit(X, y)\n",
    "    \n",
    "    # Predict\n",
    "    y_predicted = regression_model.predict(X)\n",
    "    \n",
    "    # Create dataframe for data\n",
    "    df_var = pd.DataFrame({var_1:X.flatten(), var_2: y_predicted})\n",
    "    \n",
    "    # Plot\n",
    "    boxplot = sns.boxplot(data = df_var,y = var_2,x = var_1,color = 'cyan')\n",
    "    return df_var\n",
    "    \n",
    "#Function determines best alpha value for ridge\n",
    "def R_Alpha(df,var1,var2):\n",
    "    \n",
    "    x = np.array(df[[var1]])\n",
    "    y = np.array(df[var2])\n",
    "\n",
    "    regr_cv = RidgeCV(alphas= [1,10,100,1000,2000,3000,4000])\n",
    "    model_cv = regr_cv.fit(x, y)\n",
    "    print(model_cv.alpha_)"
   ]
  },
  {
   "cell_type": "markdown",
   "id": "25aa4e92",
   "metadata": {},
   "source": [
    "### trend_day_count vs trend.publish.diff"
   ]
  },
  {
   "cell_type": "code",
   "execution_count": 18,
   "id": "36ed14e9",
   "metadata": {},
   "outputs": [
    {
     "data": {
      "text/html": [
       "<div>\n",
       "<style scoped>\n",
       "    .dataframe tbody tr th:only-of-type {\n",
       "        vertical-align: middle;\n",
       "    }\n",
       "\n",
       "    .dataframe tbody tr th {\n",
       "        vertical-align: top;\n",
       "    }\n",
       "\n",
       "    .dataframe thead th {\n",
       "        text-align: right;\n",
       "    }\n",
       "</style>\n",
       "<table border=\"1\" class=\"dataframe\">\n",
       "  <thead>\n",
       "    <tr style=\"text-align: right;\">\n",
       "      <th></th>\n",
       "      <th>trend_day_count</th>\n",
       "      <th>trend.publish.diff</th>\n",
       "    </tr>\n",
       "  </thead>\n",
       "  <tbody>\n",
       "    <tr>\n",
       "      <th>0</th>\n",
       "      <td>7</td>\n",
       "      <td>21.977202</td>\n",
       "    </tr>\n",
       "    <tr>\n",
       "      <th>1</th>\n",
       "      <td>7</td>\n",
       "      <td>21.977202</td>\n",
       "    </tr>\n",
       "    <tr>\n",
       "      <th>2</th>\n",
       "      <td>7</td>\n",
       "      <td>21.977202</td>\n",
       "    </tr>\n",
       "    <tr>\n",
       "      <th>3</th>\n",
       "      <td>7</td>\n",
       "      <td>21.977202</td>\n",
       "    </tr>\n",
       "    <tr>\n",
       "      <th>4</th>\n",
       "      <td>6</td>\n",
       "      <td>27.801235</td>\n",
       "    </tr>\n",
       "    <tr>\n",
       "      <th>...</th>\n",
       "      <td>...</td>\n",
       "      <td>...</td>\n",
       "    </tr>\n",
       "    <tr>\n",
       "      <th>4520</th>\n",
       "      <td>1</td>\n",
       "      <td>56.921398</td>\n",
       "    </tr>\n",
       "    <tr>\n",
       "      <th>4521</th>\n",
       "      <td>1</td>\n",
       "      <td>56.921398</td>\n",
       "    </tr>\n",
       "    <tr>\n",
       "      <th>4522</th>\n",
       "      <td>1</td>\n",
       "      <td>56.921398</td>\n",
       "    </tr>\n",
       "    <tr>\n",
       "      <th>4523</th>\n",
       "      <td>1</td>\n",
       "      <td>56.921398</td>\n",
       "    </tr>\n",
       "    <tr>\n",
       "      <th>4524</th>\n",
       "      <td>1</td>\n",
       "      <td>56.921398</td>\n",
       "    </tr>\n",
       "  </tbody>\n",
       "</table>\n",
       "<p>4525 rows × 2 columns</p>\n",
       "</div>"
      ],
      "text/plain": [
       "      trend_day_count  trend.publish.diff\n",
       "0                   7           21.977202\n",
       "1                   7           21.977202\n",
       "2                   7           21.977202\n",
       "3                   7           21.977202\n",
       "4                   6           27.801235\n",
       "...               ...                 ...\n",
       "4520                1           56.921398\n",
       "4521                1           56.921398\n",
       "4522                1           56.921398\n",
       "4523                1           56.921398\n",
       "4524                1           56.921398\n",
       "\n",
       "[4525 rows x 2 columns]"
      ]
     },
     "execution_count": 18,
     "metadata": {},
     "output_type": "execute_result"
    },
    {
     "data": {
      "image/png": "[encoded data removed]",
      "text/plain": [
       "<Figure size 432x288 with 1 Axes>"
      ]
     },
     "metadata": {
      "needs_background": "light"
     },
     "output_type": "display_data"
    }
   ],
   "source": [
    "lin_reg_bp(df,'trend_day_count','trend.publish.diff')"
   ]
  },
  {
   "cell_type": "code",
   "execution_count": 19,
   "id": "cd6294f1",
   "metadata": {},
   "outputs": [
    {
     "name": "stdout",
     "output_type": "stream",
     "text": [
      "1.0\n"
     ]
    }
   ],
   "source": [
    "L_Alpha(df,'trend_day_count','trend.publish.diff')"
   ]
  },
  {
   "cell_type": "code",
   "execution_count": 20,
   "id": "78402c3f",
   "metadata": {},
   "outputs": [
    {
     "data": {
      "text/html": [
       "<div>\n",
       "<style scoped>\n",
       "    .dataframe tbody tr th:only-of-type {\n",
       "        vertical-align: middle;\n",
       "    }\n",
       "\n",
       "    .dataframe tbody tr th {\n",
       "        vertical-align: top;\n",
       "    }\n",
       "\n",
       "    .dataframe thead th {\n",
       "        text-align: right;\n",
       "    }\n",
       "</style>\n",
       "<table border=\"1\" class=\"dataframe\">\n",
       "  <thead>\n",
       "    <tr style=\"text-align: right;\">\n",
       "      <th></th>\n",
       "      <th>trend_day_count</th>\n",
       "      <th>trend.publish.diff</th>\n",
       "    </tr>\n",
       "  </thead>\n",
       "  <tbody>\n",
       "    <tr>\n",
       "      <th>0</th>\n",
       "      <td>7</td>\n",
       "      <td>22.293975</td>\n",
       "    </tr>\n",
       "    <tr>\n",
       "      <th>1</th>\n",
       "      <td>7</td>\n",
       "      <td>22.293975</td>\n",
       "    </tr>\n",
       "    <tr>\n",
       "      <th>2</th>\n",
       "      <td>7</td>\n",
       "      <td>22.293975</td>\n",
       "    </tr>\n",
       "    <tr>\n",
       "      <th>3</th>\n",
       "      <td>7</td>\n",
       "      <td>22.293975</td>\n",
       "    </tr>\n",
       "    <tr>\n",
       "      <th>4</th>\n",
       "      <td>6</td>\n",
       "      <td>27.971519</td>\n",
       "    </tr>\n",
       "    <tr>\n",
       "      <th>...</th>\n",
       "      <td>...</td>\n",
       "      <td>...</td>\n",
       "    </tr>\n",
       "    <tr>\n",
       "      <th>4520</th>\n",
       "      <td>1</td>\n",
       "      <td>56.359235</td>\n",
       "    </tr>\n",
       "    <tr>\n",
       "      <th>4521</th>\n",
       "      <td>1</td>\n",
       "      <td>56.359235</td>\n",
       "    </tr>\n",
       "    <tr>\n",
       "      <th>4522</th>\n",
       "      <td>1</td>\n",
       "      <td>56.359235</td>\n",
       "    </tr>\n",
       "    <tr>\n",
       "      <th>4523</th>\n",
       "      <td>1</td>\n",
       "      <td>56.359235</td>\n",
       "    </tr>\n",
       "    <tr>\n",
       "      <th>4524</th>\n",
       "      <td>1</td>\n",
       "      <td>56.359235</td>\n",
       "    </tr>\n",
       "  </tbody>\n",
       "</table>\n",
       "<p>4525 rows × 2 columns</p>\n",
       "</div>"
      ],
      "text/plain": [
       "      trend_day_count  trend.publish.diff\n",
       "0                   7           22.293975\n",
       "1                   7           22.293975\n",
       "2                   7           22.293975\n",
       "3                   7           22.293975\n",
       "4                   6           27.971519\n",
       "...               ...                 ...\n",
       "4520                1           56.359235\n",
       "4521                1           56.359235\n",
       "4522                1           56.359235\n",
       "4523                1           56.359235\n",
       "4524                1           56.359235\n",
       "\n",
       "[4525 rows x 2 columns]"
      ]
     },
     "execution_count": 20,
     "metadata": {},
     "output_type": "execute_result"
    },
    {
     "data": {
      "image/png": "[encoded data removed]",
      "text/plain": [
       "<Figure size 432x288 with 1 Axes>"
      ]
     },
     "metadata": {
      "needs_background": "light"
     },
     "output_type": "display_data"
    }
   ],
   "source": [
    "las_reg_bp(df,'trend_day_count','trend.publish.diff',1)"
   ]
  },
  {
   "cell_type": "code",
   "execution_count": 21,
   "id": "62dc2ebc",
   "metadata": {},
   "outputs": [
    {
     "name": "stdout",
     "output_type": "stream",
     "text": [
      "2000\n"
     ]
    }
   ],
   "source": [
    "R_Alpha(df,'trend_day_count','trend.publish.diff')"
   ]
  },
  {
   "cell_type": "code",
   "execution_count": 22,
   "id": "865a73bf",
   "metadata": {},
   "outputs": [
    {
     "data": {
      "text/html": [
       "<div>\n",
       "<style scoped>\n",
       "    .dataframe tbody tr th:only-of-type {\n",
       "        vertical-align: middle;\n",
       "    }\n",
       "\n",
       "    .dataframe tbody tr th {\n",
       "        vertical-align: top;\n",
       "    }\n",
       "\n",
       "    .dataframe thead th {\n",
       "        text-align: right;\n",
       "    }\n",
       "</style>\n",
       "<table border=\"1\" class=\"dataframe\">\n",
       "  <thead>\n",
       "    <tr style=\"text-align: right;\">\n",
       "      <th></th>\n",
       "      <th>trend_day_count</th>\n",
       "      <th>trend.publish.diff</th>\n",
       "    </tr>\n",
       "  </thead>\n",
       "  <tbody>\n",
       "    <tr>\n",
       "      <th>0</th>\n",
       "      <td>7</td>\n",
       "      <td>22.743041</td>\n",
       "    </tr>\n",
       "    <tr>\n",
       "      <th>1</th>\n",
       "      <td>7</td>\n",
       "      <td>22.743041</td>\n",
       "    </tr>\n",
       "    <tr>\n",
       "      <th>2</th>\n",
       "      <td>7</td>\n",
       "      <td>22.743041</td>\n",
       "    </tr>\n",
       "    <tr>\n",
       "      <th>3</th>\n",
       "      <td>7</td>\n",
       "      <td>22.743041</td>\n",
       "    </tr>\n",
       "    <tr>\n",
       "      <th>4</th>\n",
       "      <td>6</td>\n",
       "      <td>28.212917</td>\n",
       "    </tr>\n",
       "    <tr>\n",
       "      <th>...</th>\n",
       "      <td>...</td>\n",
       "      <td>...</td>\n",
       "    </tr>\n",
       "    <tr>\n",
       "      <th>4520</th>\n",
       "      <td>1</td>\n",
       "      <td>55.562299</td>\n",
       "    </tr>\n",
       "    <tr>\n",
       "      <th>4521</th>\n",
       "      <td>1</td>\n",
       "      <td>55.562299</td>\n",
       "    </tr>\n",
       "    <tr>\n",
       "      <th>4522</th>\n",
       "      <td>1</td>\n",
       "      <td>55.562299</td>\n",
       "    </tr>\n",
       "    <tr>\n",
       "      <th>4523</th>\n",
       "      <td>1</td>\n",
       "      <td>55.562299</td>\n",
       "    </tr>\n",
       "    <tr>\n",
       "      <th>4524</th>\n",
       "      <td>1</td>\n",
       "      <td>55.562299</td>\n",
       "    </tr>\n",
       "  </tbody>\n",
       "</table>\n",
       "<p>4525 rows × 2 columns</p>\n",
       "</div>"
      ],
      "text/plain": [
       "      trend_day_count  trend.publish.diff\n",
       "0                   7           22.743041\n",
       "1                   7           22.743041\n",
       "2                   7           22.743041\n",
       "3                   7           22.743041\n",
       "4                   6           28.212917\n",
       "...               ...                 ...\n",
       "4520                1           55.562299\n",
       "4521                1           55.562299\n",
       "4522                1           55.562299\n",
       "4523                1           55.562299\n",
       "4524                1           55.562299\n",
       "\n",
       "[4525 rows x 2 columns]"
      ]
     },
     "execution_count": 22,
     "metadata": {},
     "output_type": "execute_result"
    },
    {
     "data": {
      "image/png": "[encoded data removed]",
      "text/plain": [
       "<Figure size 432x288 with 1 Axes>"
      ]
     },
     "metadata": {
      "needs_background": "light"
     },
     "output_type": "display_data"
    }
   ],
   "source": [
    "rid_reg_bp(df,'trend_day_count','trend.publish.diff',2000)"
   ]
  },
  {
   "cell_type": "code",
   "execution_count": null,
   "id": "6f3e1148",
   "metadata": {},
   "outputs": [],
   "source": []
  }
 ],
 "metadata": {
  "kernelspec": {
   "display_name": "Python 3 (ipykernel)",
   "language": "python",
   "name": "python3"
  },
  "language_info": {
   "codemirror_mode": {
    "name": "ipython",
    "version": 3
   },
   "file_extension": ".py",
   "mimetype": "text/x-python",
   "name": "python",
   "nbconvert_exporter": "python",
   "pygments_lexer": "ipython3",
   "version": "3.9.5"
  }
 },
 "nbformat": 4,
 "nbformat_minor": 5
}
