{
 "cells": [
  {
   "cell_type": "markdown",
   "metadata": {},
   "source": [
    "# Upload File"
   ]
  },
  {
   "cell_type": "code",
   "execution_count": 46,
   "metadata": {},
   "outputs": [],
   "source": [
    "import pandas as pd\n",
    "import numpy as np\n",
    "import matplotlib.pyplot as plt\n",
    "import seaborn as sns\n",
    "from matplotlib.ticker import FormatStrFormatter\n",
    "df = pd.read_csv(\"USvideos_modified.csv\", sep=\",\")"
   ]
  },
  {
   "cell_type": "code",
   "execution_count": 47,
   "metadata": {},
   "outputs": [
    {
     "data": {
      "text/plain": [
       "Index(['video_id', 'last_trending_date', 'publish_date', 'publish_hour',\n",
       "       'category_id', 'channel_title', 'views', 'likes', 'dislikes',\n",
       "       'comment_count', 'comments_disabled', 'ratings_disabled',\n",
       "       'tag_appeared_in_title_count', 'tag_appeared_in_title', 'title', 'tags',\n",
       "       'description', 'trend_day_count', 'trend.publish.diff',\n",
       "       'trend_tag_highest', 'trend_tag_total', 'tags_count', 'subscriber'],\n",
       "      dtype='object')"
      ]
     },
     "execution_count": 47,
     "metadata": {},
     "output_type": "execute_result"
    }
   ],
   "source": [
    "df.columns"
   ]
  },
  {
   "cell_type": "markdown",
   "metadata": {},
   "source": [
    "# General Clean up of Data"
   ]
  },
  {
   "cell_type": "code",
   "execution_count": 48,
   "metadata": {},
   "outputs": [
    {
     "data": {
      "text/plain": [
       "(4525, 23)"
      ]
     },
     "execution_count": 48,
     "metadata": {},
     "output_type": "execute_result"
    }
   ],
   "source": [
    "#filling in descriptions that were blank\n",
    "df.description= df.description.fillna('No description provided')\n",
    "df.tags= df.tags.fillna('')\n",
    "df = df.dropna() #no information provided for subscribers to we eliminate those rows\n",
    "df.shape"
   ]
  },
  {
   "cell_type": "code",
   "execution_count": 49,
   "metadata": {},
   "outputs": [
    {
     "data": {
      "text/plain": [
       "Index(['video_id', 'last_trending_date', 'publish_date', 'publish_hour',\n",
       "       'category_id', 'channel_title', 'views', 'likes', 'dislikes',\n",
       "       'comment_count', 'comments_disabled', 'ratings_disabled',\n",
       "       'tag_appeared_in_title_count', 'tag_appeared_in_title', 'title', 'tags',\n",
       "       'description', 'trend_day_count', 'trend.publish.diff',\n",
       "       'trend_tag_highest', 'trend_tag_total', 'tags_count', 'subscriber'],\n",
       "      dtype='object')"
      ]
     },
     "execution_count": 49,
     "metadata": {},
     "output_type": "execute_result"
    }
   ],
   "source": [
    "df.columns"
   ]
  },
  {
   "cell_type": "markdown",
   "metadata": {},
   "source": [
    "## Linear Regression"
   ]
  },
  {
   "cell_type": "code",
   "execution_count": 50,
   "metadata": {},
   "outputs": [],
   "source": [
    "from sklearn.linear_model import LinearRegression\n",
    "\n",
    "def lin_reg_bp(df,var_1,var_2):\n",
    "    \n",
    "    X = np.array(df[[var_1]])\n",
    "    y = np.array(df[var_2])\n",
    "    \n",
    "    # Model initialization\n",
    "    regression_model = LinearRegression()\n",
    "    \n",
    "    # Fit the data(train the model)\n",
    "    regression_model.fit(X, y)\n",
    "    \n",
    "    # Predict\n",
    "    y_predicted = regression_model.predict(X)\n",
    "    \n",
    "    # Create dataframe for data\n",
    "    df_var = pd.DataFrame({var_1:X.flatten(), var_2: y_predicted})\n",
    "    \n",
    "    # Plot\n",
    "    boxplot = df_var.boxplot(column=[var_1, var_2])\n",
    "    return boxplot"
   ]
  },
  {
   "cell_type": "markdown",
   "metadata": {},
   "source": [
    "## Lasso Regression"
   ]
  },
  {
   "cell_type": "code",
   "execution_count": 51,
   "metadata": {},
   "outputs": [],
   "source": [
    "from sklearn.linear_model import Lasso\n",
    "from sklearn.linear_model import LassoCV\n",
    "\n",
    "#L1 Regularization Method\n",
    "def las_reg_bp(df,var_1,var_2,a):\n",
    "    \n",
    "    X = np.array(df[[var_1]])\n",
    "    y = np.array(df[var_2])\n",
    "    \n",
    "    # Model initialization\n",
    "    regression_model = Lasso(alpha=a)\n",
    "    \n",
    "    # Fit the data(train the model)\n",
    "    regression_model.fit(X, y)\n",
    "    \n",
    "    # Predict\n",
    "    y_predicted = regression_model.predict(X)\n",
    "    \n",
    "    # Create dataframe for data\n",
    "    df_var = pd.DataFrame({var_1:X.flatten(), var_2: y_predicted})\n",
    "    \n",
    "    # Plot\n",
    "    boxplot = df_var.boxplot(column=[var_1, var_2])\n",
    "    return boxplot\n",
    "    \n",
    "#Function determines best alpha value for lasso\n",
    "def L_Alpha(df,var1,var2):\n",
    "    \n",
    "    x = np.array(df[[var1]])\n",
    "    y = np.array(df[var2])\n",
    "\n",
    "    regr_cv = LassoCV(alphas= [.1,1,10,100,1000,2000,3000,4000])\n",
    "    model_cv = regr_cv.fit(x, y)\n",
    "    print(model_cv.alpha_)"
   ]
  },
  {
   "cell_type": "markdown",
   "metadata": {},
   "source": [
    "## Ridge Regression"
   ]
  },
  {
   "cell_type": "code",
   "execution_count": 52,
   "metadata": {},
   "outputs": [],
   "source": [
    "from sklearn.linear_model import Ridge\n",
    "from sklearn.linear_model import RidgeCV\n",
    "\n",
    "#L2 Regularization Method\n",
    "def rid_reg_bp(df,var_1,var_2,a):\n",
    "    \n",
    "    X = np.array(df[[var_1]])\n",
    "    y = np.array(df[var_2])\n",
    "    \n",
    "    # Model initialization\n",
    "    regression_model = Ridge(alpha=a)\n",
    "    \n",
    "    # Fit the data(train the model)\n",
    "    regression_model.fit(X, y)\n",
    "    \n",
    "    # Predict\n",
    "    y_predicted = regression_model.predict(X)\n",
    "    \n",
    "    # Create dataframe for data\n",
    "    df_var = pd.DataFrame({var_1:X.flatten(), var_2: y_predicted})\n",
    "    \n",
    "    # Plot\n",
    "    boxplot = df_var.boxplot(column=[var_1, var_2])\n",
    "    return boxplot\n",
    "    \n",
    "#Function determines best alpha value for ridge\n",
    "def R_Alpha(df,var1,var2):\n",
    "    \n",
    "    x = np.array(df[[var1]])\n",
    "    y = np.array(df[var2])\n",
    "\n",
    "    regr_cv = RidgeCV(alphas= [1,10,100,1000,2000,3000,4000])\n",
    "    model_cv = regr_cv.fit(x, y)\n",
    "    print(model_cv.alpha_)"
   ]
  },
  {
   "cell_type": "markdown",
   "metadata": {},
   "source": [
    "### trend_day_count vs trend.publish.diff"
   ]
  },
  {
   "cell_type": "code",
   "execution_count": 53,
   "metadata": {},
   "outputs": [
    {
     "data": {
      "text/plain": [
       "<AxesSubplot:>"
      ]
     },
     "execution_count": 53,
     "metadata": {},
     "output_type": "execute_result"
    },
    {
     "data": {
      "image/png": "[encoded data removed]",
      "text/plain": [
       "<Figure size 432x288 with 1 Axes>"
      ]
     },
     "metadata": {
      "needs_background": "light"
     },
     "output_type": "display_data"
    }
   ],
   "source": [
    "lin_reg_bp(df,'trend_day_count','trend.publish.diff')"
   ]
  },
  {
   "cell_type": "code",
   "execution_count": 54,
   "metadata": {},
   "outputs": [
    {
     "name": "stdout",
     "output_type": "stream",
     "text": [
      "1.0\n"
     ]
    }
   ],
   "source": [
    "L_Alpha(df,'trend_day_count','trend.publish.diff')"
   ]
  },
  {
   "cell_type": "code",
   "execution_count": 55,
   "metadata": {},
   "outputs": [
    {
     "data": {
      "text/plain": [
       "<AxesSubplot:>"
      ]
     },
     "execution_count": 55,
     "metadata": {},
     "output_type": "execute_result"
    },
    {
     "data": {
      "image/png": "[encoded data removed]",
      "text/plain": [
       "<Figure size 432x288 with 1 Axes>"
      ]
     },
     "metadata": {
      "needs_background": "light"
     },
     "output_type": "display_data"
    }
   ],
   "source": [
    "las_reg_bp(df,'trend_day_count','trend.publish.diff',1)"
   ]
  },
  {
   "cell_type": "code",
   "execution_count": 56,
   "metadata": {},
   "outputs": [
    {
     "name": "stdout",
     "output_type": "stream",
     "text": [
      "2000\n"
     ]
    }
   ],
   "source": [
    "R_Alpha(df,'trend_day_count','trend.publish.diff')"
   ]
  },
  {
   "cell_type": "code",
   "execution_count": 57,
   "metadata": {},
   "outputs": [
    {
     "data": {
      "text/plain": [
       "<AxesSubplot:>"
      ]
     },
     "execution_count": 57,
     "metadata": {},
     "output_type": "execute_result"
    },
    {
     "data": {
      "image/png": "[encoded data removed]",
      "text/plain": [
       "<Figure size 432x288 with 1 Axes>"
      ]
     },
     "metadata": {
      "needs_background": "light"
     },
     "output_type": "display_data"
    }
   ],
   "source": [
    "rid_reg_bp(df,'trend_day_count','trend.publish.diff',2000)"
   ]
  }
 ],
 "metadata": {
  "kernelspec": {
   "display_name": "Python 3",
   "language": "python",
   "name": "python3"
  },
  "language_info": {
   "codemirror_mode": {
    "name": "ipython",
    "version": 3
   },
   "file_extension": ".py",
   "mimetype": "text/x-python",
   "name": "python",
   "nbconvert_exporter": "python",
   "pygments_lexer": "ipython3",
   "version": "3.8.5"
  }
 },
 "nbformat": 4,
 "nbformat_minor": 5
}
